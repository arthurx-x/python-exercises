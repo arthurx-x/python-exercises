{
 "cells": [
  {
   "cell_type": "markdown",
   "metadata": {},
   "source": [
    "# Atividade 01"
   ]
  },
  {
   "cell_type": "markdown",
   "metadata": {},
   "source": [
    "## Livro para consulta:\n",
    "- https://jakevdp.github.io/PythonDataScienceHandbook/03.08-aggregation-and-grouping.html\n",
    "- https://jakevdp.github.io/PythonDataScienceHandbook/03.09-pivot-tables.html\n",
    "    "
   ]
  },
  {
   "cell_type": "markdown",
   "metadata": {},
   "source": [
    "### 1. Importando bibliotecas"
   ]
  },
  {
   "cell_type": "code",
   "execution_count": 1,
   "metadata": {
    "ExecuteTime": {
     "end_time": "2021-06-06T21:12:37.298706Z",
     "start_time": "2021-06-06T21:12:36.656481Z"
    }
   },
   "outputs": [],
   "source": [
    "# Importando bibliotecas\n",
    "import numpy as np\n",
    "import pandas as pd\n",
    "import seaborn as sns\n",
    "import matplotlib.pyplot as plt\n",
    "import matplotlib_inline\n",
    "import calendar"
   ]
  },
  {
   "cell_type": "markdown",
   "metadata": {},
   "source": [
    "### 2. Carregando o dataframe SINASC"
   ]
  },
  {
   "cell_type": "code",
   "execution_count": 2,
   "metadata": {
    "ExecuteTime": {
     "end_time": "2021-06-06T21:12:37.762376Z",
     "start_time": "2021-06-06T21:12:37.728383Z"
    },
    "scrolled": true
   },
   "outputs": [
    {
     "data": {
      "text/html": [
       "<div>\n",
       "<style scoped>\n",
       "    .dataframe tbody tr th:only-of-type {\n",
       "        vertical-align: middle;\n",
       "    }\n",
       "\n",
       "    .dataframe tbody tr th {\n",
       "        vertical-align: top;\n",
       "    }\n",
       "\n",
       "    .dataframe thead th {\n",
       "        text-align: right;\n",
       "    }\n",
       "</style>\n",
       "<table border=\"1\" class=\"dataframe\">\n",
       "  <thead>\n",
       "    <tr style=\"text-align: right;\">\n",
       "      <th></th>\n",
       "      <th>ORIGEM</th>\n",
       "      <th>CODESTAB</th>\n",
       "      <th>CODMUNNASC</th>\n",
       "      <th>LOCNASC</th>\n",
       "      <th>IDADEMAE</th>\n",
       "      <th>ESTCIVMAE</th>\n",
       "      <th>ESCMAE</th>\n",
       "      <th>CODOCUPMAE</th>\n",
       "      <th>QTDFILVIVO</th>\n",
       "      <th>QTDFILMORT</th>\n",
       "      <th>...</th>\n",
       "      <th>KOTELCHUCK</th>\n",
       "      <th>CONTADOR</th>\n",
       "      <th>munResStatus</th>\n",
       "      <th>munResTipo</th>\n",
       "      <th>munResNome</th>\n",
       "      <th>munResUf</th>\n",
       "      <th>munResLat</th>\n",
       "      <th>munResLon</th>\n",
       "      <th>munResAlt</th>\n",
       "      <th>munResArea</th>\n",
       "    </tr>\n",
       "  </thead>\n",
       "  <tbody>\n",
       "    <tr>\n",
       "      <th>0</th>\n",
       "      <td>1</td>\n",
       "      <td>2679477.0</td>\n",
       "      <td>110001</td>\n",
       "      <td>1</td>\n",
       "      <td>19</td>\n",
       "      <td>5.0</td>\n",
       "      <td>8 a 11 anos</td>\n",
       "      <td>NaN</td>\n",
       "      <td>0.0</td>\n",
       "      <td>0.0</td>\n",
       "      <td>...</td>\n",
       "      <td>5</td>\n",
       "      <td>1</td>\n",
       "      <td>ATIVO</td>\n",
       "      <td>MUNIC</td>\n",
       "      <td>Alta Floresta D'Oeste</td>\n",
       "      <td>Rondônia</td>\n",
       "      <td>-11.93554</td>\n",
       "      <td>-61.99982</td>\n",
       "      <td>338.0</td>\n",
       "      <td>7067.025</td>\n",
       "    </tr>\n",
       "    <tr>\n",
       "      <th>1</th>\n",
       "      <td>1</td>\n",
       "      <td>2679477.0</td>\n",
       "      <td>110001</td>\n",
       "      <td>1</td>\n",
       "      <td>29</td>\n",
       "      <td>2.0</td>\n",
       "      <td>8 a 11 anos</td>\n",
       "      <td>999992.0</td>\n",
       "      <td>1.0</td>\n",
       "      <td>0.0</td>\n",
       "      <td>...</td>\n",
       "      <td>5</td>\n",
       "      <td>2</td>\n",
       "      <td>ATIVO</td>\n",
       "      <td>MUNIC</td>\n",
       "      <td>Alta Floresta D'Oeste</td>\n",
       "      <td>Rondônia</td>\n",
       "      <td>-11.93554</td>\n",
       "      <td>-61.99982</td>\n",
       "      <td>338.0</td>\n",
       "      <td>7067.025</td>\n",
       "    </tr>\n",
       "    <tr>\n",
       "      <th>2</th>\n",
       "      <td>1</td>\n",
       "      <td>2679477.0</td>\n",
       "      <td>110001</td>\n",
       "      <td>1</td>\n",
       "      <td>37</td>\n",
       "      <td>9.0</td>\n",
       "      <td>8 a 11 anos</td>\n",
       "      <td>513205.0</td>\n",
       "      <td>2.0</td>\n",
       "      <td>0.0</td>\n",
       "      <td>...</td>\n",
       "      <td>5</td>\n",
       "      <td>3</td>\n",
       "      <td>ATIVO</td>\n",
       "      <td>MUNIC</td>\n",
       "      <td>Alta Floresta D'Oeste</td>\n",
       "      <td>Rondônia</td>\n",
       "      <td>-11.93554</td>\n",
       "      <td>-61.99982</td>\n",
       "      <td>338.0</td>\n",
       "      <td>7067.025</td>\n",
       "    </tr>\n",
       "    <tr>\n",
       "      <th>3</th>\n",
       "      <td>1</td>\n",
       "      <td>2516500.0</td>\n",
       "      <td>110001</td>\n",
       "      <td>1</td>\n",
       "      <td>30</td>\n",
       "      <td>5.0</td>\n",
       "      <td>12 anos ou mais</td>\n",
       "      <td>231205.0</td>\n",
       "      <td>0.0</td>\n",
       "      <td>0.0</td>\n",
       "      <td>...</td>\n",
       "      <td>4</td>\n",
       "      <td>4</td>\n",
       "      <td>ATIVO</td>\n",
       "      <td>MUNIC</td>\n",
       "      <td>Alto Alegre dos Parecis</td>\n",
       "      <td>Rondônia</td>\n",
       "      <td>-12.13178</td>\n",
       "      <td>-61.85308</td>\n",
       "      <td>397.0</td>\n",
       "      <td>3958.273</td>\n",
       "    </tr>\n",
       "    <tr>\n",
       "      <th>4</th>\n",
       "      <td>1</td>\n",
       "      <td>2516500.0</td>\n",
       "      <td>110001</td>\n",
       "      <td>1</td>\n",
       "      <td>30</td>\n",
       "      <td>2.0</td>\n",
       "      <td>8 a 11 anos</td>\n",
       "      <td>999992.0</td>\n",
       "      <td>1.0</td>\n",
       "      <td>0.0</td>\n",
       "      <td>...</td>\n",
       "      <td>5</td>\n",
       "      <td>5</td>\n",
       "      <td>ATIVO</td>\n",
       "      <td>MUNIC</td>\n",
       "      <td>Alta Floresta D'Oeste</td>\n",
       "      <td>Rondônia</td>\n",
       "      <td>-11.93554</td>\n",
       "      <td>-61.99982</td>\n",
       "      <td>338.0</td>\n",
       "      <td>7067.025</td>\n",
       "    </tr>\n",
       "  </tbody>\n",
       "</table>\n",
       "<p>5 rows × 69 columns</p>\n",
       "</div>"
      ],
      "text/plain": [
       "   ORIGEM   CODESTAB  CODMUNNASC  LOCNASC  IDADEMAE  ESTCIVMAE  \\\n",
       "0       1  2679477.0      110001        1        19        5.0   \n",
       "1       1  2679477.0      110001        1        29        2.0   \n",
       "2       1  2679477.0      110001        1        37        9.0   \n",
       "3       1  2516500.0      110001        1        30        5.0   \n",
       "4       1  2516500.0      110001        1        30        2.0   \n",
       "\n",
       "            ESCMAE  CODOCUPMAE  QTDFILVIVO  QTDFILMORT  ...  KOTELCHUCK  \\\n",
       "0      8 a 11 anos         NaN         0.0         0.0  ...           5   \n",
       "1      8 a 11 anos    999992.0         1.0         0.0  ...           5   \n",
       "2      8 a 11 anos    513205.0         2.0         0.0  ...           5   \n",
       "3  12 anos ou mais    231205.0         0.0         0.0  ...           4   \n",
       "4      8 a 11 anos    999992.0         1.0         0.0  ...           5   \n",
       "\n",
       "  CONTADOR munResStatus munResTipo               munResNome  munResUf  \\\n",
       "0        1        ATIVO      MUNIC    Alta Floresta D'Oeste  Rondônia   \n",
       "1        2        ATIVO      MUNIC    Alta Floresta D'Oeste  Rondônia   \n",
       "2        3        ATIVO      MUNIC    Alta Floresta D'Oeste  Rondônia   \n",
       "3        4        ATIVO      MUNIC  Alto Alegre dos Parecis  Rondônia   \n",
       "4        5        ATIVO      MUNIC    Alta Floresta D'Oeste  Rondônia   \n",
       "\n",
       "   munResLat munResLon  munResAlt  munResArea  \n",
       "0  -11.93554 -61.99982      338.0    7067.025  \n",
       "1  -11.93554 -61.99982      338.0    7067.025  \n",
       "2  -11.93554 -61.99982      338.0    7067.025  \n",
       "3  -12.13178 -61.85308      397.0    3958.273  \n",
       "4  -11.93554 -61.99982      338.0    7067.025  \n",
       "\n",
       "[5 rows x 69 columns]"
      ]
     },
     "execution_count": 2,
     "metadata": {},
     "output_type": "execute_result"
    }
   ],
   "source": [
    "# Lendo o arquivo CSV SINASC_RO_2019.csv e exibindo as primeiras linhas\n",
    "sinasc_raw = pd.read_csv('SINASC_RO_2019.csv')\n",
    "sinasc_raw.head()"
   ]
  },
  {
   "cell_type": "code",
   "execution_count": 3,
   "metadata": {},
   "outputs": [
    {
     "data": {
      "text/plain": [
       "Index(['ORIGEM', 'CODESTAB', 'CODMUNNASC', 'LOCNASC', 'IDADEMAE', 'ESTCIVMAE',\n",
       "       'ESCMAE', 'CODOCUPMAE', 'QTDFILVIVO', 'QTDFILMORT', 'CODMUNRES',\n",
       "       'GESTACAO', 'GRAVIDEZ', 'PARTO', 'CONSULTAS', 'DTNASC', 'HORANASC',\n",
       "       'SEXO', 'APGAR1', 'APGAR5', 'RACACOR', 'PESO', 'IDANOMAL', 'DTCADASTRO',\n",
       "       'CODANOMAL', 'NUMEROLOTE', 'VERSAOSIST', 'DTRECEBIM', 'DIFDATA',\n",
       "       'DTRECORIGA', 'NATURALMAE', 'CODMUNNATU', 'CODUFNATU', 'ESCMAE2010',\n",
       "       'SERIESCMAE', 'DTNASCMAE', 'RACACORMAE', 'QTDGESTANT', 'QTDPARTNOR',\n",
       "       'QTDPARTCES', 'IDADEPAI', 'DTULTMENST', 'SEMAGESTAC', 'TPMETESTIM',\n",
       "       'CONSPRENAT', 'MESPRENAT', 'TPAPRESENT', 'STTRABPART', 'STCESPARTO',\n",
       "       'TPNASCASSI', 'TPFUNCRESP', 'TPDOCRESP', 'DTDECLARAC', 'ESCMAEAGR1',\n",
       "       'STDNEPIDEM', 'STDNNOVA', 'CODPAISRES', 'TPROBSON', 'PARIDADE',\n",
       "       'KOTELCHUCK', 'CONTADOR', 'munResStatus', 'munResTipo', 'munResNome',\n",
       "       'munResUf', 'munResLat', 'munResLon', 'munResAlt', 'munResArea'],\n",
       "      dtype='object')"
      ]
     },
     "execution_count": 3,
     "metadata": {},
     "output_type": "execute_result"
    }
   ],
   "source": [
    "# Exibindo as colunas do DataFrame sinasc_raw\n",
    "sinasc_raw.columns"
   ]
  },
  {
   "cell_type": "markdown",
   "metadata": {},
   "source": [
    "### 1. Idade media das mães e dos pais por município (coluna munResNome)"
   ]
  },
  {
   "cell_type": "code",
   "execution_count": 4,
   "metadata": {},
   "outputs": [
    {
     "name": "stdout",
     "output_type": "stream",
     "text": [
      "                            IDADEMAE   IDADEPAI\n",
      "munResNome                                     \n",
      "Alta Floresta D'Oeste      25.991826  29.548701\n",
      "Alto Alegre dos Parecis    24.844156  29.179104\n",
      "Alto Paraíso               24.960177  28.833333\n",
      "Alvorada D'Oeste           25.770732  30.757282\n",
      "Ariquemes                  25.607866  32.466667\n",
      "Buritis                    25.559177  30.812500\n",
      "Cabixi                     26.037500  34.333333\n",
      "Cacaulândia                25.546667  36.333333\n",
      "Cacoal                     26.890102  30.931854\n",
      "Campo Novo de Rondônia     24.825301  30.500000\n",
      "Candeias do Jamari         25.243323  29.894737\n",
      "Castanheiras               27.281250  30.392857\n",
      "Cerejeiras                 27.240506  31.652778\n",
      "Chupinguaia                25.333333  29.629630\n",
      "Colorado do Oeste          27.602804  34.354839\n",
      "Corumbiara                 24.716535  32.470588\n",
      "Costa Marques              24.412017  30.613636\n",
      "Cujubim                    24.482927  31.400000\n",
      "Espigão D'Oeste            26.093333  31.198113\n",
      "Governador Jorge Teixeira  24.401786  29.222222\n",
      "Guajará-Mirim              25.462228  30.470588\n",
      "Itapuã do Oeste            26.064220  42.500000\n",
      "Jaru                       25.982974  32.197183\n",
      "Ji-Paraná                  26.361137  31.132239\n",
      "Machadinho D'Oeste         25.480000  31.326923\n",
      "Ministro Andreazza         27.904762  33.849315\n",
      "Mirante da Serra           26.304878  32.154762\n",
      "Monte Negro                25.648241  34.678571\n",
      "Município ignorado - RO    24.000000  22.000000\n",
      "Nova Brasilândia D'Oeste   26.222222  30.520833\n",
      "Nova Mamoré                25.326389  31.692308\n",
      "Nova União                 26.894231  31.371429\n",
      "Novo Horizonte do Oeste    26.938776  31.588235\n",
      "Ouro Preto do Oeste        26.375594  31.233244\n",
      "Parecis                    26.454545  32.473684\n",
      "Pimenta Bueno              25.199675  29.745174\n",
      "Pimenteiras do Oeste       25.075000  35.600000\n",
      "Porto Velho                26.312670  32.352679\n",
      "Presidente Médici          25.796053  30.150754\n",
      "Primavera de Rondônia      27.023256  31.888889\n",
      "Rio Crespo                 26.660000  28.000000\n",
      "Rolim de Moura             26.600863  30.360479\n",
      "Santa Luzia D'Oeste        26.121212  30.703297\n",
      "Seringueiras               24.910714  30.500000\n",
      "São Felipe D'Oeste         26.481481  31.395833\n",
      "São Francisco do Guaporé   25.660066  31.638889\n",
      "São Miguel do Guaporé      25.926346  32.666667\n",
      "Teixeirópolis              26.031250  31.500000\n",
      "Theobroma                  25.536082  30.083333\n",
      "Urupá                      26.688235  31.008929\n",
      "Vale do Anari              26.096774  34.000000\n",
      "Vale do Paraíso            25.679012  29.976744\n",
      "Vilhena                    26.433962  34.152941\n"
     ]
    }
   ],
   "source": [
    "# Calculando a idade média de mães e pais por município de residência e imprimindo o resultado\n",
    "idade_media = sinasc_raw.groupby('munResNome').agg({'IDADEMAE': 'mean', 'IDADEPAI': 'mean'})\n",
    "print(idade_media)"
   ]
  },
  {
   "cell_type": "markdown",
   "metadata": {},
   "source": [
    "### 2. Peso médio dos bebes por sexo que nasceram no dia do seu aniversário por faixas de escolaridade mae\n",
    "Ex: Você, aluna(o), nasceu no dia 10/01, então você precisa filtrar o conjunto de dados nessa data e calcular o peso médio dos bebês de cada sexo por faixa de escolaridade da mãe."
   ]
  },
  {
   "cell_type": "code",
   "execution_count": 5,
   "metadata": {},
   "outputs": [
    {
     "name": "stdout",
     "output_type": "stream",
     "text": [
      "SEXO       ESCMAE         \n",
      "Feminino   12 anos ou mais    3040.555556\n",
      "           4 a 7 anos         2952.500000\n",
      "           8 a 11 anos        3316.933333\n",
      "Masculino  1 a 3 anos         3035.000000\n",
      "           12 anos ou mais    3263.500000\n",
      "           4 a 7 anos         3713.750000\n",
      "           8 a 11 anos        3059.064516\n",
      "Name: PESO, dtype: float64\n"
     ]
    }
   ],
   "source": [
    "# Convertendo a coluna 'DTNASC' para o tipo de dado de data\n",
    "sinasc_raw['DTNASC'] = pd.to_datetime(sinasc_raw['DTNASC'], errors='coerce')\n",
    "\n",
    "# Filtrando os registros de aniversário (12 de julho)\n",
    "aniversario = sinasc_raw[(sinasc_raw['DTNASC'].dt.day == 12) & (sinasc_raw['DTNASC'].dt.month == 7)]\n",
    "\n",
    "# Calculando o peso médio por sexo e escolaridade da mãe\n",
    "peso_medio_por_sexo_escolaridade = aniversario.groupby(['SEXO', 'ESCMAE'])['PESO'].mean()\n",
    "\n",
    "# Imprimindo o resultado\n",
    "print(peso_medio_por_sexo_escolaridade)"
   ]
  },
  {
   "cell_type": "markdown",
   "metadata": {},
   "source": [
    "### 3. Qual o municipio que nasceu menos bebe em 2019?\n",
    "    - qual a idade media, maxima, minima das maes nesse municipio?\n",
    "    - qual a idade media, maxima, minima dos pais nesse municipio?"
   ]
  },
  {
   "cell_type": "code",
   "execution_count": 6,
   "metadata": {},
   "outputs": [
    {
     "name": "stdout",
     "output_type": "stream",
     "text": [
      "Menos bebês nasceram em Castanheiras em 2019.\n",
      "Idade média mães: 27.28125\n",
      "Idade máxima mães: 39\n",
      "Idade mínima mães: 17\n",
      "Idade média pais: 30.392857142857142\n",
      "Idade máxima pais: 43.0\n",
      "Idade mínima pais: 17.0\n"
     ]
    }
   ],
   "source": [
    "# Filtrando dados excluindo 'Município ignorado - RO'\n",
    "dados_menos_bebe = sinasc_raw[sinasc_raw['munResNome'] != 'Município ignorado - RO']\n",
    "\n",
    "# Encontrando o município com menos nascimentos\n",
    "menos_bebe = dados_menos_bebe['munResNome'].value_counts().idxmin()\n",
    "\n",
    "# Calculando estatísticas de idade para mães e pais no município com menos nascimentos\n",
    "idade_media_min_mae = dados_menos_bebe[dados_menos_bebe['munResNome'] == menos_bebe]['IDADEMAE'].mean()\n",
    "idade_max_mae = dados_menos_bebe[dados_menos_bebe['munResNome'] == menos_bebe]['IDADEMAE'].max()\n",
    "idade_min_mae = dados_menos_bebe[dados_menos_bebe['munResNome'] == menos_bebe]['IDADEMAE'].min()\n",
    "idade_media_min_pai = dados_menos_bebe[dados_menos_bebe['munResNome'] == menos_bebe]['IDADEPAI'].mean()\n",
    "idade_max_pai = dados_menos_bebe[dados_menos_bebe['munResNome'] == menos_bebe]['IDADEPAI'].max()\n",
    "idade_min_pai = dados_menos_bebe[dados_menos_bebe['munResNome'] == menos_bebe]['IDADEPAI'].min()\n",
    "\n",
    "# Imprimindo resultados\n",
    "print(f\"Menos bebês nasceram em {menos_bebe} em 2019.\")\n",
    "print(f\"Idade média mães: {idade_media_min_mae}\")\n",
    "print(f\"Idade máxima mães: {idade_max_mae}\")\n",
    "print(f\"Idade mínima mães: {idade_min_mae}\")\n",
    "print(f\"Idade média pais: {idade_media_min_pai}\")\n",
    "print(f\"Idade máxima pais: {idade_max_pai}\")\n",
    "print(f\"Idade mínima pais: {idade_min_pai}\")"
   ]
  },
  {
   "cell_type": "markdown",
   "metadata": {},
   "source": [
    "### 4. Qual o municipio que nasceu mais bebe no mês de março?\n",
    "    - qual a quantidade de filhos vivos media, maxima, minima nesse municipio?\n",
    "    - qual a idade media, maxima, minima dos pais nesse municipio?"
   ]
  },
  {
   "cell_type": "code",
   "execution_count": 7,
   "metadata": {},
   "outputs": [
    {
     "name": "stdout",
     "output_type": "stream",
     "text": [
      "Mais bebês nasceram em Porto Velho em março.\n",
      "Filhos vivos estatísticas:\n",
      "count    7319.000000\n",
      "mean        1.167236\n",
      "std         1.222640\n",
      "min         0.000000\n",
      "25%         0.000000\n",
      "50%         1.000000\n",
      "75%         2.000000\n",
      "max        12.000000\n",
      "Name: QTDFILVIVO, dtype: float64\n",
      "Estatísticas Pais: count    672.000000\n",
      "mean      32.352679\n",
      "std        7.865620\n",
      "min       16.000000\n",
      "25%       27.000000\n",
      "50%       32.000000\n",
      "75%       37.000000\n",
      "max       65.000000\n",
      "Name: IDADEPAI, dtype: float64\n"
     ]
    }
   ],
   "source": [
    "# Encontrando o município com mais nascimentos em março\n",
    "mais_bebe_marco = sinasc_raw[sinasc_raw['DTNASC'].dt.month == 3]['munResNome'].value_counts().idxmax()\n",
    "\n",
    "# Filtrando dados para o município com mais nascimentos em março\n",
    "dados_mais_bebe_marco = sinasc_raw[sinasc_raw['munResNome'] == mais_bebe_marco]\n",
    "\n",
    "# Calculando estatísticas para a quantidade de filhos vivos e idade dos pais\n",
    "estatisticas_filhos = dados_mais_bebe_marco['QTDFILVIVO'].describe()\n",
    "estatisticas_idade_pais = dados_mais_bebe_marco['IDADEPAI'].describe()\n",
    "\n",
    "# Imprimindo resultados\n",
    "print(f\"Mais bebês nasceram em {mais_bebe_marco} em março.\")\n",
    "print(f\"Filhos vivos estatísticas:\\n{estatisticas_filhos}\")\n",
    "print(f\"Estatísticas Pais: {estatisticas_idade_pais}\")"
   ]
  },
  {
   "cell_type": "markdown",
   "metadata": {},
   "source": [
    "### Analise as respostas encontradas, tire algum insight delas, conte pra gente algo encontrado nos dados. Algo que você julgue relevante e novo pra você."
   ]
  },
  {
   "cell_type": "markdown",
   "metadata": {},
   "source": [
    "Exemplo:\n",
    "- Ah, descobri que a idade mediana das mulheres que deram a luz no ano de 2019 dos municipios x é maior que y."
   ]
  },
  {
   "cell_type": "markdown",
   "metadata": {},
   "source": [
    "- Em Castanheiras, onde nasceram menos bebês em 2019, a idade média das mães é de 27,28, com uma idade mínima de 17 e uma idade máxima de 39. \n",
    "\n",
    "- A idade média dos pais ali é de 28 e 30, variando de 17 a 43.\n",
    "\n",
    "- O peso médio ao nascer de bebês nascidos em 12 de julho varia de acordo com o gênero e o nível de escolaridade da mãe.\n",
    "\n",
    "- Para mulheres, o peso médio ao nascer é maior para mães com 8 a 11 anos de educação (3316,93g), enquanto para homens, é maior para mães com 4 a 7 anos de educação (3713,75g).\n",
    "\n",
    "- O município com mais nascimentos em março é Porto Velho.\n",
    "\n",
    "- As estatísticas para o número de filhos nascidos vivos em Porto Velho durante março mostram que a média é de aproximadamente 1,17 crianças, com um máximo de 12 e um mínimo de 0. \n",
    "\n",
    "- A idade média dos pais em Porto Velho é de cerca de 32,35, com uma idade mínima de 16 e uma idade máxima de 65."
   ]
  },
  {
   "cell_type": "markdown",
   "metadata": {},
   "source": [
    "# Atividade 2"
   ]
  },
  {
   "cell_type": "markdown",
   "metadata": {},
   "source": [
    "### 1. Crie 2 faixas de Latitude do município (munResLat) sendo uma acima e outra abaixo de -10.5 e aplique o groupby usando essas faixas como chave e realize operações de soma, media, minimo, maximo, mediana, desvio padrao, variancia pra pelo menos 2 variáveis numéricas ainda não utilizadas"
   ]
  },
  {
   "cell_type": "code",
   "execution_count": 8,
   "metadata": {},
   "outputs": [
    {
     "name": "stdout",
     "output_type": "stream",
     "text": [
      "\n",
      "Acima -10.5:\n",
      "         QTDFILMORT   QTDPARTNOR\n",
      "sum     3538.000000  8771.000000\n",
      "mean       0.291770     0.711759\n",
      "min        0.000000     0.000000\n",
      "max        9.000000    40.000000\n",
      "median     0.000000     0.000000\n",
      "std        0.627856     1.279042\n",
      "var        0.394204     1.635949\n",
      "\n",
      "Abaixo -10.5:\n",
      "         QTDFILMORT   QTDPARTNOR\n",
      "sum     3105.000000  5800.000000\n",
      "mean       0.242521     0.452242\n",
      "min        0.000000     0.000000\n",
      "max       28.000000    41.000000\n",
      "median     0.000000     0.000000\n",
      "std        0.599430     1.123426\n",
      "var        0.359317     1.262087\n"
     ]
    }
   ],
   "source": [
    "# Definindo o limiar de latitude\n",
    "latitude_threshold = -10.5\n",
    "\n",
    "# Selecionando variáveis numéricas relevantes\n",
    "numeric_variables = ['QTDFILMORT', 'QTDPARTNOR']\n",
    "\n",
    "# Separando grupos com latitude acima e abaixo do limiar\n",
    "above_threshold_group = sinasc_raw[sinasc_raw['munResLat'] >= latitude_threshold]\n",
    "below_threshold_group = sinasc_raw[sinasc_raw['munResLat'] < latitude_threshold]\n",
    "\n",
    "# Calculando estatísticas resumidas para cada grupo\n",
    "above_summary_statistics = above_threshold_group[numeric_variables].agg(['sum', 'mean', 'min', 'max', 'median', 'std', 'var'])\n",
    "below_summary_statistics = below_threshold_group[numeric_variables].agg(['sum', 'mean', 'min', 'max', 'median', 'std', 'var'])\n",
    "\n",
    "# Imprimindo resultados\n",
    "print(\"\\nAcima -10.5:\")\n",
    "print(above_summary_statistics)\n",
    "print(\"\\nAbaixo -10.5:\")\n",
    "print(below_summary_statistics)"
   ]
  },
  {
   "cell_type": "markdown",
   "metadata": {},
   "source": [
    "### 2. Crie 2 faixas da área dos municípios (munResArea) sendo uma acima e outra abaixo de 3000 e aplique o groupby usando essas faixas como chave e realize operações de soma, media, minimo, maximo, mediana, desvio padrao, variancia pra pelo menos 2 variáveis numéricas ainda não utilizadas"
   ]
  },
  {
   "cell_type": "code",
   "execution_count": 9,
   "metadata": {},
   "outputs": [
    {
     "name": "stdout",
     "output_type": "stream",
     "text": [
      "\n",
      "Acima 3000:\n",
      "          QTDGESTANT       IDADEPAI\n",
      "sum     27046.000000  158424.000000\n",
      "mean        1.310368      31.094014\n",
      "min         0.000000      15.000000\n",
      "max        52.000000      86.000000\n",
      "median      1.000000      30.000000\n",
      "std         1.447429       7.818364\n",
      "var         2.095052      61.126809\n",
      "\n",
      "Abaixo 3000:\n",
      "         QTDGESTANT      IDADEPAI\n",
      "sum     5870.000000  78074.000000\n",
      "mean       1.134300     31.092792\n",
      "min        0.000000     16.000000\n",
      "max        9.000000     69.000000\n",
      "median     1.000000     30.000000\n",
      "std        1.208914      7.675474\n",
      "var        1.461473     58.912900\n"
     ]
    }
   ],
   "source": [
    "# Definindo o limiar de área\n",
    "ar_threshold = 3000\n",
    "\n",
    "# Selecionando variáveis numéricas relevantes\n",
    "numeric_variables = ['QTDGESTANT', 'IDADEPAI']\n",
    "\n",
    "# Separando grupos com área acima e abaixo do limiar\n",
    "above_ar_group = sinasc_raw[sinasc_raw['munResArea'] >= ar_threshold]\n",
    "below_ar_group = sinasc_raw[sinasc_raw['munResArea'] < ar_threshold]\n",
    "\n",
    "# Calculando estatísticas resumidas para cada grupo\n",
    "above_ar_summary = above_ar_group[numeric_variables].agg(['sum', 'mean', 'min', 'max', 'median', 'std', 'var'])\n",
    "below_ar_summary = below_ar_group[numeric_variables].agg(['sum', 'mean', 'min', 'max', 'median', 'std', 'var'])\n",
    "\n",
    "# Imprimindo resultados\n",
    "print(\"\\nAcima 3000:\")\n",
    "print(above_ar_summary)\n",
    "print(\"\\nAbaixo 3000:\")\n",
    "print(below_ar_summary)"
   ]
  },
  {
   "cell_type": "markdown",
   "metadata": {},
   "source": [
    "### 3. Determine faixas na variável munResAlt e aplique o groupby usando essas faixas como chave e realize operações de soma, media, minimo, maximo, mediana, desvio padrao, variancia pra pelo menos 2 variáveis numéricas ainda não utilizadas"
   ]
  },
  {
   "cell_type": "code",
   "execution_count": 10,
   "metadata": {},
   "outputs": [
    {
     "name": "stdout",
     "output_type": "stream",
     "text": [
      "\n",
      "Agrupamento munResAlt:\n",
      "               QTDPARTCES                                                  \\\n",
      "                      sum      mean  min   max median       std       var   \n",
      "alt_bins                                                                    \n",
      "(84.0, 187.0]      9007.0  0.488078  0.0  12.0    0.0  0.741756  0.550202   \n",
      "(187.0, 289.0]     2682.0  0.628103  0.0   5.0    0.0  0.749706  0.562058   \n",
      "(289.0, 391.0]      307.0  0.546263  0.0   4.0    0.0  0.763818  0.583417   \n",
      "(391.0, 493.0]      202.0  0.553425  0.0   3.0    0.0  0.737921  0.544528   \n",
      "(493.0, 595.0]      938.0  0.591798  0.0   4.0    0.0  0.754152  0.568746   \n",
      "\n",
      "                    PESO                                              \\\n",
      "                     sum         mean  min   max  median         std   \n",
      "alt_bins                                                               \n",
      "(84.0, 187.0]   65481244  3250.818845  292  5480  3280.0  546.449052   \n",
      "(187.0, 289.0]  13979470  3211.456467  285  5985  3245.0  532.614364   \n",
      "(289.0, 391.0]   1863051  3251.397906  370  4980  3285.0  530.499569   \n",
      "(391.0, 493.0]   1193879  3244.236413  258  4888  3287.5  562.126447   \n",
      "(493.0, 595.0]   5136098  3230.250314  425  4920  3272.0  554.485749   \n",
      "\n",
      "                               \n",
      "                          var  \n",
      "alt_bins                       \n",
      "(84.0, 187.0]   298606.566576  \n",
      "(187.0, 289.0]  283678.060662  \n",
      "(289.0, 391.0]  281429.792443  \n",
      "(391.0, 493.0]  315986.142867  \n",
      "(493.0, 595.0]  307454.445799  \n"
     ]
    }
   ],
   "source": [
    "# Definindo o número de bins\n",
    "num_bins = 5\n",
    "\n",
    "# Selecionando variáveis numéricas relevantes\n",
    "numeric_variables = ['QTDPARTCES', 'PESO']\n",
    "\n",
    "# Calculando estatísticas resumidas com base no agrupamento da altura do município\n",
    "alt_summary_statistics = (\n",
    "    sinasc_raw.assign(alt_bins=pd.cut(sinasc_raw['munResAlt'], bins=num_bins, precision=0))\n",
    "    .groupby('alt_bins', observed=False)[numeric_variables]\n",
    "    .agg(['sum', 'mean', 'min', 'max', 'median', 'std', 'var']))\n",
    "\n",
    "# Imprimindo resultados\n",
    "print(\"\\nAgrupamento munResAlt:\")\n",
    "print(alt_summary_statistics)"
   ]
  },
  {
   "cell_type": "markdown",
   "metadata": {},
   "source": [
    "### 4. Plote no mesmo grafico ao longo do tempo a idade media das mulheres de cada regiao imediatas de rondonia\n",
    "https://pt.wikipedia.org/wiki/Lista_de_regi%C3%B5es_geogr%C3%A1ficas_intermedi%C3%A1rias_e_imediatas_de_Rond%C3%B4nia"
   ]
  },
  {
   "cell_type": "code",
   "execution_count": 11,
   "metadata": {},
   "outputs": [
    {
     "data": {
      "image/png": "[encoded data removed]",
      "text/plain": [
       "<Figure size 1200x600 with 1 Axes>"
      ]
     },
     "metadata": {},
     "output_type": "display_data"
    }
   ],
   "source": [
    "# Lendo o arquivo CSV e convertendo a coluna de data para o tipo de dado de data\n",
    "sinasc = pd.read_csv('SINASC_RO_2019.csv', parse_dates=['DTNASC'])\n",
    "\n",
    "# Municípios de interesse\n",
    "municipios_interesse = ['Porto Velho', 'Ariquemes', 'Jaru', 'Ji-Paraná', 'Cacoal', 'Vilhena']\n",
    "\n",
    "# Filtrando dados para os municípios de interesse\n",
    "filtered_data = sinasc[sinasc['munResNome'].isin(municipios_interesse)]\n",
    "\n",
    "# Calculando a idade média por mês\n",
    "average_age_per_month_region = filtered_data.groupby([filtered_data['DTNASC'].dt.month, 'munResNome'])['IDADEMAE'].mean().unstack()\n",
    "\n",
    "# Criando o gráfico\n",
    "average_age_per_month_region.plot(figsize=(12, 6), marker='o')\n",
    "plt.title('Idade Média das Mães por Região em 2019')\n",
    "plt.xlabel('Mês')\n",
    "plt.ylabel('Idade Média')\n",
    "plt.xticks(list(range(1, 13)), rotation=0)\n",
    "plt.legend(title='Região', loc='upper right')\n",
    "plt.grid(axis='y', linestyle='--', alpha=0.7)\n",
    "plt.show()"
   ]
  },
  {
   "cell_type": "markdown",
   "metadata": {},
   "source": [
    "### 5. Utilize a tabela do link abaixo e crie faixas utilizando o mapping e gere agrupamentos utilizando essas faixas como chave"
   ]
  },
  {
   "cell_type": "code",
   "execution_count": 12,
   "metadata": {},
   "outputs": [
    {
     "data": {
      "text/html": [
       "<div>\n",
       "<style scoped>\n",
       "    .dataframe tbody tr th:only-of-type {\n",
       "        vertical-align: middle;\n",
       "    }\n",
       "\n",
       "    .dataframe tbody tr th {\n",
       "        vertical-align: top;\n",
       "    }\n",
       "\n",
       "    .dataframe thead th {\n",
       "        text-align: right;\n",
       "    }\n",
       "</style>\n",
       "<table border=\"1\" class=\"dataframe\">\n",
       "  <thead>\n",
       "    <tr style=\"text-align: right;\">\n",
       "      <th></th>\n",
       "      <th>municipio</th>\n",
       "      <th>regiao</th>\n",
       "      <th>idh</th>\n",
       "      <th>ifdm</th>\n",
       "      <th>pib</th>\n",
       "    </tr>\n",
       "  </thead>\n",
       "  <tbody>\n",
       "    <tr>\n",
       "      <th>0</th>\n",
       "      <td>Alta Floresta D'Oeste</td>\n",
       "      <td>Cacoal</td>\n",
       "      <td>0.641</td>\n",
       "      <td>0.6337</td>\n",
       "      <td>496000</td>\n",
       "    </tr>\n",
       "    <tr>\n",
       "      <th>1</th>\n",
       "      <td>Alto Alegre dos Parecis</td>\n",
       "      <td>Cacoal</td>\n",
       "      <td>0.592</td>\n",
       "      <td>0.5046</td>\n",
       "      <td>213410</td>\n",
       "    </tr>\n",
       "    <tr>\n",
       "      <th>2</th>\n",
       "      <td>Alto Paraíso</td>\n",
       "      <td>Ariquemes</td>\n",
       "      <td>0.625</td>\n",
       "      <td>0.5735</td>\n",
       "      <td>358000</td>\n",
       "    </tr>\n",
       "    <tr>\n",
       "      <th>3</th>\n",
       "      <td>Alvorada D'Oeste</td>\n",
       "      <td>Ji-Paraná</td>\n",
       "      <td>0.643</td>\n",
       "      <td>0.5919</td>\n",
       "      <td>204098</td>\n",
       "    </tr>\n",
       "    <tr>\n",
       "      <th>4</th>\n",
       "      <td>Ariquemes</td>\n",
       "      <td>Ariquemes</td>\n",
       "      <td>0.702</td>\n",
       "      <td>0.7746</td>\n",
       "      <td>2579830</td>\n",
       "    </tr>\n",
       "  </tbody>\n",
       "</table>\n",
       "</div>"
      ],
      "text/plain": [
       "                 municipio     regiao    idh    ifdm      pib\n",
       "0    Alta Floresta D'Oeste     Cacoal  0.641  0.6337   496000\n",
       "1  Alto Alegre dos Parecis     Cacoal  0.592  0.5046   213410\n",
       "2             Alto Paraíso  Ariquemes  0.625  0.5735   358000\n",
       "3         Alvorada D'Oeste  Ji-Paraná  0.643  0.5919   204098\n",
       "4                Ariquemes  Ariquemes  0.702  0.7746  2579830"
      ]
     },
     "execution_count": 12,
     "metadata": {},
     "output_type": "execute_result"
    }
   ],
   "source": [
    "# Lendo o arquivo CSV com dados de regiões e municípios\n",
    "dados_ro = pd.read_csv('dados_extras_ro.csv', sep=';', encoding='latin_1')\n",
    "\n",
    "# Criando um dicionário de municípios para regiões\n",
    "regioes_map = dict(zip(dados_ro['municipio'], dados_ro['regiao']))\n",
    "\n",
    "# Exibindo as primeiras linhas do DataFrame\n",
    "dados_ro.head()"
   ]
  },
  {
   "cell_type": "code",
   "execution_count": 13,
   "metadata": {},
   "outputs": [
    {
     "data": {
      "text/plain": [
       "Index(['municipio', 'regiao', 'idh', 'ifdm', 'pib'], dtype='object')"
      ]
     },
     "execution_count": 13,
     "metadata": {},
     "output_type": "execute_result"
    }
   ],
   "source": [
    "# Exibindo os nomes das colunas do DataFrame\n",
    "dados_ro.columns"
   ]
  },
  {
   "cell_type": "code",
   "execution_count": 14,
   "metadata": {},
   "outputs": [
    {
     "data": {
      "text/plain": [
       "municipio     object\n",
       "regiao        object\n",
       "idh          float64\n",
       "ifdm         float64\n",
       "pib            int64\n",
       "dtype: object"
      ]
     },
     "execution_count": 14,
     "metadata": {},
     "output_type": "execute_result"
    }
   ],
   "source": [
    "# Exibindo os tipos de dados das colunas do DataFrame\n",
    "dados_ro.dtypes"
   ]
  },
  {
   "cell_type": "markdown",
   "metadata": {},
   "source": [
    "### 5.1 IDH\n",
    "A - https://pt.wikipedia.org/wiki/Lista_de_munic%C3%ADpios_de_Rond%C3%B4nia_por_IDH-M"
   ]
  },
  {
   "cell_type": "code",
   "execution_count": 15,
   "metadata": {},
   "outputs": [
    {
     "name": "stdout",
     "output_type": "stream",
     "text": [
      "IDH\n",
      "                idh  municipio\n",
      "faixa_idh                     \n",
      "Baixo      0.591333          9\n",
      "Médio      0.644784         37\n",
      "Alto       0.718500          6\n"
     ]
    }
   ],
   "source": [
    "# Criando uma nova coluna 'faixa_idh' com base nos intervalos especificados\n",
    "dados_ro['faixa_idh'] = pd.cut(dados_ro['idh'], bins=[0, 0.6, 0.7, 0.8], labels=['Baixo', 'Médio', 'Alto'])\n",
    "\n",
    "# Agrupando por faixa_idh e calculando a média do IDH e a contagem de municípios\n",
    "grouped_idh = dados_ro.groupby('faixa_idh', observed=False).agg({'idh': 'mean', 'municipio': 'count'})\n",
    "\n",
    "# Imprimindo os resultados\n",
    "print(\"IDH\")\n",
    "print(grouped_idh)"
   ]
  },
  {
   "cell_type": "markdown",
   "metadata": {},
   "source": [
    "### 5.2 IFDM \n",
    "B - https://pt.wikipedia.org/wiki/Lista_de_munic%C3%ADpios_de_Rond%C3%B4nia_por_IFDM"
   ]
  },
  {
   "cell_type": "code",
   "execution_count": 16,
   "metadata": {},
   "outputs": [
    {
     "name": "stdout",
     "output_type": "stream",
     "text": [
      "\n",
      "IFDM\n",
      "                ifdm  municipio\n",
      "faixa_ifdm                     \n",
      "Baixo       0.456200          1\n",
      "Médio       0.594649         45\n",
      "Alto        0.734650          6\n"
     ]
    }
   ],
   "source": [
    "# Criando uma nova coluna 'faixa_ifdm' com base nos intervalos especificados\n",
    "dados_ro['faixa_ifdm'] = pd.cut(dados_ro['ifdm'], bins=[0, 0.5, 0.7, 1.0], labels=['Baixo', 'Médio', 'Alto'])\n",
    "\n",
    "# Agrupando por faixa_ifdm e calculando a média do IFDM e a contagem de municípios\n",
    "grouped_ifdm = dados_ro.groupby('faixa_ifdm', observed=False).agg({'ifdm': 'mean', 'municipio': 'count'})\n",
    "\n",
    "# Imprimindo os resultados\n",
    "print(\"\\nIFDM\")\n",
    "print(grouped_ifdm)"
   ]
  },
  {
   "cell_type": "markdown",
   "metadata": {},
   "source": [
    "### 5.3 PIB\n",
    "C - https://pt.wikipedia.org/wiki/Lista_de_munic%C3%ADpios_de_Rond%C3%B4nia_por_PIB"
   ]
  },
  {
   "cell_type": "code",
   "execution_count": 17,
   "metadata": {},
   "outputs": [
    {
     "name": "stdout",
     "output_type": "stream",
     "text": [
      "\n",
      "PIB\n",
      "                    pib  municipio\n",
      "faixa_pib                         \n",
      "Baixo      2.822857e+05         44\n",
      "Médio      2.200832e+06          7\n",
      "Alto       1.791207e+07          1\n"
     ]
    }
   ],
   "source": [
    "# Criando uma nova coluna 'faixa_pib' com base nos intervalos especificados\n",
    "dados_ro['faixa_pib'] = pd.cut(dados_ro['pib'], bins=[0, 1000000, 10000000, 100000000], labels=['Baixo', 'Médio', 'Alto'])\n",
    "\n",
    "# Agrupando por faixa_pib e calculando a média do PIB e a contagem de municípios\n",
    "grouped_pib = dados_ro.groupby('faixa_pib', observed=False).agg({'pib': 'mean', 'municipio': 'count'})\n",
    "\n",
    "# Imprimindo os resultados\n",
    "print(\"\\nPIB\")\n",
    "print(grouped_pib)"
   ]
  },
  {
   "cell_type": "markdown",
   "metadata": {},
   "source": [
    "### Analise as respostas encontradas, tire algum insight delas, conte pra gente algo encontrado nos dados."
   ]
  },
  {
   "cell_type": "markdown",
   "metadata": {},
   "source": [
    "Exemplo:\n",
    "- Ah, descobri que a idade mediana das mulheres que deram a luz no ano de 2019 dos municipios com o PIB mais alto é a maior dentre todas."
   ]
  },
  {
   "cell_type": "markdown",
   "metadata": {},
   "source": [
    "- Municípios acima de -10.5 de latitude têm uma média ligeiramente maior de filhos mortos e partos normais e o oposto também é verdade.\n",
    "\n",
    "- Municípios com área acima de 3000 têm significantemente mais entradas de gestantes.\n",
    "\n",
    "- Nota-se que a maioria dos municípios está na faixa média para IDH e IFDM, enquanto o PIB não acompanha a tendencia."
   ]
  }
 ],
 "metadata": {
  "kernelspec": {
   "display_name": "Python 3",
   "language": "python",
   "name": "python3"
  },
  "language_info": {
   "codemirror_mode": {
    "name": "ipython",
    "version": 3
   },
   "file_extension": ".py",
   "mimetype": "text/x-python",
   "name": "python",
   "nbconvert_exporter": "python",
   "pygments_lexer": "ipython3",
   "version": "3.11.7"
  },
  "varInspector": {
   "cols": {
    "lenName": 16,
    "lenType": 16,
    "lenVar": 40
   },
   "kernels_config": {
    "python": {
     "delete_cmd_postfix": "",
     "delete_cmd_prefix": "del ",
     "library": "var_list.py",
     "varRefreshCmd": "print(var_dic_list())"
    },
    "r": {
     "delete_cmd_postfix": ") ",
     "delete_cmd_prefix": "rm(",
     "library": "var_list.r",
     "varRefreshCmd": "cat(var_dic_list()) "
    }
   },
   "types_to_exclude": [
    "module",
    "function",
    "builtin_function_or_method",
    "instance",
    "_Feature"
   ],
   "window_display": false
  }
 },
 "nbformat": 4,
 "nbformat_minor": 4
}
