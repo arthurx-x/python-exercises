{
 "cells": [
  {
   "cell_type": "markdown",
   "metadata": {},
   "source": [
    "# Atividade 01"
   ]
  },
  {
   "cell_type": "code",
   "execution_count": null,
   "metadata": {},
   "outputs": [],
   "source": [
    "# Importando bibliotecas\n",
    "import pandas as pd\n",
    "import seaborn as sns\n",
    "import numpy as np\n",
    "import matplotlib.pyplot as plt\n",
    "from prettytable import PrettyTable\n",
    "from scipy import stats\n",
    "from scipy.stats import ttest_ind\n",
    "from scipy.stats import t"
   ]
  },
  {
   "cell_type": "code",
   "execution_count": null,
   "metadata": {},
   "outputs": [],
   "source": [
    "# Carregando o dataset\n",
    "pg = sns.load_dataset('penguins')\n",
    "pg.groupby('sex')['body_mass_g'].describe()"
   ]
  },
  {
   "cell_type": "code",
   "execution_count": null,
   "metadata": {},
   "outputs": [],
   "source": [
    "# Criando o gráfico\n",
    "sns.pointplot(data=pg, x='sex', y = 'body_mass_g')"
   ]
  },
  {
   "cell_type": "markdown",
   "metadata": {},
   "source": [
    "## 1) Diferença de peso entre machos e fêmeas\n",
    "\n",
    "Na base de pinguins, podemos ver que há diferença de peso entre machos e fêmeas. Mas será que é uma conclusão extrapolável a toda a população de pinguins? Assumindo que essa amostra é aleatória e representativa da população de pinguins, realize um teste T com 5% de significância para verificar se podemos induzir esta conclusão para a população toda."
   ]
  },
  {
   "cell_type": "code",
   "execution_count": null,
   "metadata": {},
   "outputs": [],
   "source": [
    "# Separar os dados de peso por sexo\n",
    "peso_machos = pg[pg['sex'] == 'Male']['body_mass_g']\n",
    "peso_femeas = pg[pg['sex'] == 'Female']['body_mass_g']\n",
    "\n",
    "# Realizar o teste t de Student\n",
    "t_stat, p_valor = stats.ttest_ind(peso_machos, peso_femeas)\n",
    "\n",
    "# Definir o nível de significância\n",
    "alpha = 0.05\n",
    "\n",
    "# Interpretar o resultado\n",
    "resultado = \"Há evidência suficiente para rejeitar a hipótese nula. \" \\\n",
    "            \"Existe diferença significativa entre os pesos de machos e fêmeas na população de pinguins.\" \\\n",
    "            if p_valor < alpha else \\\n",
    "            \"Não há evidência suficiente para rejeitar a hipótese nula. \" \\\n",
    "            \"Não existe diferença significativa entre os pesos de machos e fêmeas na população de pinguins.\"\n",
    "\n",
    "# Criar a tabela usando o prettytable\n",
    "tabela = PrettyTable()\n",
    "tabela.field_names = [\"Resultados do Teste t de Student:\", \"Estatística t\", \"p-valor\"]\n",
    "tabela.align[\"Resultado\"] = \"l\"\n",
    "tabela.add_row([resultado, f\"{t_stat:.4f}\", f\"{p_valor:.6f}\"])\n",
    "\n",
    "# Imprimir a tabela com uma mensagem informativa\n",
    "print(tabela)"
   ]
  },
  {
   "cell_type": "markdown",
   "metadata": {},
   "source": [
    "## 2)Representação gráfica do teste\n",
    "\n",
    "Crie uma visualização da estatística do teste, sua distribuição e a região crítica do teste."
   ]
  },
  {
   "cell_type": "code",
   "execution_count": null,
   "metadata": {},
   "outputs": [],
   "source": [
    "# Supondo que você tenha os dados dos pinguins machos e fêmeas\n",
    "male_penguins = pg[pg['sex'] == 'Male']['body_mass_g']\n",
    "female_penguins = pg[pg['sex'] == 'Female']['body_mass_g']\n",
    "\n",
    "# Calculando a estatística t usando o teste t de Student independente\n",
    "# A função ttest_ind retorna a estatística t e o valor p\n",
    "t_stat, _ = ttest_ind(male_penguins, female_penguins)\n",
    "\n",
    "# Calcular os graus de liberdade\n",
    "df = male_penguins.shape[0] + female_penguins.shape[0] - 2\n",
    "\n",
    "# Nível de significância\n",
    "alpha = 0.05\n",
    "\n",
    "# Gerar os valores de x para a distribuição t\n",
    "x = np.linspace(t.ppf(0.01, df), t.ppf(0.99, df), 100)\n",
    "\n",
    "# Plotar a distribuição t\n",
    "plt.figure(figsize=(10, 6))\n",
    "plt.plot(x, t.pdf(x, df), label='Distribuição t')\n",
    "\n",
    "# Adicionar a estatística do teste e os valores críticos\n",
    "plt.axvline(t_stat.item(), color='r', linestyle='--', label='Estatística do Teste')\n",
    "plt.axvline((-t.ppf(alpha/2, df)).item(), color='g', linestyle='--', label='Valor Crítico (-)')\n",
    "plt.axvline((t.ppf(alpha/2, df)).item(), color='g', linestyle='--', label='Valor Crítico (+)')\n",
    "\n",
    "# Adicionar rótulos e legenda\n",
    "plt.title('Teste t para Diferença de Peso entre Pinguins Machos e Fêmeas')\n",
    "plt.xlabel('Valor t')\n",
    "plt.ylabel('Densidade')\n",
    "plt.legend()\n",
    "plt.show()"
   ]
  },
  {
   "cell_type": "markdown",
   "metadata": {},
   "source": [
    "## 3) Considere as espécies\n",
    "\n",
    "Repita o exercício I, uma vez para cada espécie de pinguim. Qual é o *p-value* associado a cada raça?"
   ]
  },
  {
   "cell_type": "code",
   "execution_count": null,
   "metadata": {},
   "outputs": [],
   "source": [
    "# Load the dataset\n",
    "pg = sns.load_dataset('penguins')\n",
    "\n",
    "# Criar a tabela usando o prettytable\n",
    "tabela = PrettyTable()\n",
    "tabela.field_names = [\"Espécie\", \"Resultados do Teste t de Student por Espécie:\", \"Estatística t\", \"p-valor\"]\n",
    "tabela.align[\"Espécie\"] = \"l\"\n",
    "tabela.align[\"Resultado\"] = \"l\"\n",
    "\n",
    "# Agrupar os dados por espécie e aplicar o teste t para cada grupo\n",
    "for especie, dados in pg.groupby('species'):\n",
    "    # Remover linhas com valores ausentes\n",
    "    dados = dados.dropna(subset=['body_mass_g', 'sex'])\n",
    "    \n",
    "    # Separar os dados de peso por sexo para a espécie atual\n",
    "    peso_machos = dados[dados['sex'] == 'Male']['body_mass_g']\n",
    "    peso_femeas = dados[dados['sex'] == 'Female']['body_mass_g']\n",
    "    \n",
    "    # Verificar se há dados para ambos os sexos\n",
    "    if len(peso_machos) == 0 or len(peso_femeas) == 0:\n",
    "        resultado = f\"Não há dados disponíveis para ambos os sexos na espécie {especie}.\"\n",
    "        tabela.add_row([especie, resultado, \"-\", \"-\"])\n",
    "        continue\n",
    "    \n",
    "    # Verificar o tamanho da amostra\n",
    "    if len(peso_machos) < 2 or len(peso_femeas) < 2:\n",
    "        resultado = f\"Tamanho da amostra insuficiente para a espécie {especie}.\"\n",
    "        tabela.add_row([especie, resultado, \"-\", \"-\"])\n",
    "        continue\n",
    "    \n",
    "    # Realizar o teste t de Student para a espécie atual\n",
    "    t_stat, p_valor = stats.ttest_ind(peso_machos, peso_femeas)\n",
    "    \n",
    "    # Interpretar o resultado\n",
    "    alpha = 0.05  # Nível de significância de 5%\n",
    "    if p_valor < alpha:\n",
    "        resultado = \"Há evidência suficiente para rejeitar a hipótese nula. \" \\\n",
    "                    f\"Existe diferença significativa entre os pesos de machos e fêmeas na espécie {especie}.\"\n",
    "    else:\n",
    "        resultado = \"Não há evidência suficiente para rejeitar a hipótese nula. \" \\\n",
    "                    f\"Não existe diferença significativa entre os pesos de machos e fêmeas na espécie {especie}.\"\n",
    "    \n",
    "    # Adicionar uma linha à tabela com os resultados da espécie atual\n",
    "    tabela.add_row([especie, resultado, f\"{t_stat:.4f}\", f\"{p_valor:.6f}\"])\n",
    "\n",
    "# Imprimir a tabela com um cabeçalho\n",
    "print(tabela)"
   ]
  }
 ],
 "metadata": {
  "kernelspec": {
   "display_name": "Python 3",
   "language": "python",
   "name": "python3"
  },
  "language_info": {
   "codemirror_mode": {
    "name": "ipython",
    "version": 3
   },
   "file_extension": ".py",
   "mimetype": "text/x-python",
   "name": "python",
   "nbconvert_exporter": "python",
   "pygments_lexer": "ipython3",
   "version": "3.11.7"
  },
  "toc": {
   "base_numbering": 1,
   "nav_menu": {},
   "number_sections": false,
   "sideBar": true,
   "skip_h1_title": true,
   "title_cell": "Índice",
   "title_sidebar": "Conteúdo",
   "toc_cell": false,
   "toc_position": {},
   "toc_section_display": true,
   "toc_window_display": false
  },
  "varInspector": {
   "cols": {
    "lenName": 16,
    "lenType": 16,
    "lenVar": 40
   },
   "kernels_config": {
    "python": {
     "delete_cmd_postfix": "",
     "delete_cmd_prefix": "del ",
     "library": "var_list.py",
     "varRefreshCmd": "print(var_dic_list())"
    },
    "r": {
     "delete_cmd_postfix": ") ",
     "delete_cmd_prefix": "rm(",
     "library": "var_list.r",
     "varRefreshCmd": "cat(var_dic_list()) "
    }
   },
   "types_to_exclude": [
    "module",
    "function",
    "builtin_function_or_method",
    "instance",
    "_Feature"
   ],
   "window_display": false
  }
 },
 "nbformat": 4,
 "nbformat_minor": 4
}
