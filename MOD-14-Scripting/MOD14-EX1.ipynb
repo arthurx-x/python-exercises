{
 "cells": [
  {
   "cell_type": "code",
   "execution_count": 8,
   "metadata": {},
   "outputs": [
    {
     "name": "stdout",
     "output_type": "stream",
     "text": [
      "Data inicial: 2019-01-01, Data final: 2019-03-31\n",
      "Nome da pasta: 2019-03\n",
      "\n",
      "Data inicial: 2019-01-01, Data final: 2019-04-30\n",
      "Nome da pasta: 2019-04\n",
      "\n",
      "Data inicial: 2019-01-01, Data final: 2019-05-31\n",
      "Nome da pasta: 2019-05\n",
      "\n",
      "Data inicial: 2019-01-01, Data final: 2019-06-30\n",
      "Nome da pasta: 2019-06\n",
      "\n",
      "Data inicial: 2019-01-01, Data final: 2019-12-31\n",
      "Nome da pasta: 2019-12\n",
      "\n"
     ]
    }
   ],
   "source": [
    "# Importando bibliotecas\n",
    "import os\n",
    "import pandas as pd\n",
    "import seaborn as sns\n",
    "import matplotlib.pyplot as plt\n",
    "\n",
    "# Configurações iniciais para os gráficos\n",
    "sns.set_theme()\n",
    "plt.rcParams['figure.figsize'] = [15, 5]\n",
    "\n",
    "def plot_and_save(df, value, index, func, ylabel, xlabel, folder_name, file_name, option=None):\n",
    "    # Cria uma tabela dinâmica\n",
    "    pivot_table = pd.pivot_table(df, values=value, index=index, aggfunc=func)\n",
    "    \n",
    "    # Ordena a tabela se a opção for 'sort'\n",
    "    if option == 'sort':\n",
    "        pivot_table.sort_values(value, inplace=True)\n",
    "    # Desempilha a tabela se a opção for 'unstack'\n",
    "    elif option == 'unstack':\n",
    "        pivot_table = pivot_table.unstack()\n",
    "    \n",
    "    # Plota o gráfico e salva a figura\n",
    "    ax = pivot_table.plot()\n",
    "    ax.set(ylabel=ylabel, xlabel=xlabel)\n",
    "    plt.savefig(f'./output/figs/{folder_name}/{file_name}.png')\n",
    "    plt.close()\n",
    "\n",
    "# Carrega os dataframes dos meses\n",
    "data_frames = {m: pd.read_csv(f'SINASC_RO_2019_{m}.csv') for m in ['MAR', 'ABR', 'MAI', 'JUN', 'DEZ']}\n",
    "\n",
    "# Itera sobre os dataframes\n",
    "for mes, df in data_frames.items():\n",
    "    # Obtém a data máxima para criar a pasta de saída\n",
    "    max_data = df.DTNASC.max()[:7]\n",
    "    os.makedirs(f'./output/figs/{max_data}', exist_ok=True)\n",
    "    \n",
    "    # Lista de análises a serem realizadas\n",
    "    analyses = [\n",
    "        ('IDADEMAE', 'DTNASC', 'count', 'Quantidade de nascimentos', 'Data de nascimento', None),\n",
    "        ('IDADEMAE', ['DTNASC', 'SEXO'], 'mean', 'Média da idade das mães', 'Data de nascimento', 'unstack'),\n",
    "        ('PESO', ['DTNASC', 'SEXO'], 'mean', 'Média do peso dos bebês', 'Data de nascimento', 'unstack'),\n",
    "        ('APGAR1', 'ESCMAE', 'median', 'Mediana do APGAR1', 'Escolaridade', 'sort'),\n",
    "        ('APGAR1', 'GESTACAO', 'mean', 'Média do APGAR1', 'Gestação', 'sort'),\n",
    "        ('APGAR5', 'GESTACAO', 'mean', 'Média do APGAR5', 'Gestação', 'sort')]\n",
    "    \n",
    "    # Itera sobre as análises\n",
    "    for value, index, func, ylabel, xlabel, option in analyses:\n",
    "        plot_and_save(df, value, index, func, ylabel, xlabel, max_data, ylabel.replace(' ', '_'), option)\n",
    "    \n",
    "    # Imprime informações sobre as datas e a pasta criada\n",
    "    print(f'Data inicial: {df.DTNASC.min()}, Data final: {df.DTNASC.max()}')\n",
    "    print(f'Nome da pasta: {max_data}\\n')"
   ]
  }
 ],
 "metadata": {
  "kernelspec": {
   "display_name": "base",
   "language": "python",
   "name": "python3"
  },
  "language_info": {
   "codemirror_mode": {
    "name": "ipython",
    "version": 3
   },
   "file_extension": ".py",
   "mimetype": "text/x-python",
   "name": "python",
   "nbconvert_exporter": "python",
   "pygments_lexer": "ipython3",
   "version": "3.11.7"
  }
 },
 "nbformat": 4,
 "nbformat_minor": 2
}
