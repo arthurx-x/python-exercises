{
 "cells": [
  {
   "cell_type": "markdown",
   "metadata": {},
   "source": [
    "# Atividade 01"
   ]
  },
  {
   "cell_type": "markdown",
   "metadata": {},
   "source": [
    "## 1. Marque quais desses métodos/algoritmos muito populares em ciência de dados são baseados no uso de derivada:\n",
    "\n",
    "1. Método Mínimos Quadrados\n",
    "2. Gradiente descendente\n",
    "3. Newton Raphson\n",
    "4. CART (Árvore de decisão)"
   ]
  },
  {
   "cell_type": "markdown",
   "metadata": {},
   "source": [
    "✅1) Método Mínimos Quadrados: Um método que busca encontrar os parâmetros de um modelo de regressão que minimizam a soma dos quadrados dos resíduos, ou seja, a diferença entre o valor observado e o valor previsto pelo modelo. Para isso, ele usa a derivada dessa soma em relação aos parâmetros e iguala a zero, encontrando assim o ponto mínimo.\n",
    "\n",
    "✅2) Gradiente descendente: Um algoritmo que busca encontrar o mínimo de uma função, seja ela de uma ou mais variáveis. Ele funciona atualizando iterativamente os valores das variáveis na direção oposta ao gradiente da função, que é um vetor que indica a direção e o sentido de maior crescimento da função. O gradiente é calculado usando a derivada parcial da função em relação a cada variável.\n",
    "\n",
    "✅3) Newton Raphson: é um algoritmo que busca encontrar as raízes de uma função, ou seja, os valores das variáveis que fazem a função ser igual a zero. Ele funciona usando uma aproximação inicial e atualizando iterativamente os valores das variáveis usando a fórmula de Newton, que envolve a derivada da função.\n",
    "\n",
    "❌4) CART (Árvore de decisão): é um algoritmo que busca construir uma árvore de decisão a partir de um conjunto de dados, dividindo os dados em subconjuntos homogêneos de acordo com uma variável resposta. Ele não usa derivada, mas sim medidas de impureza ou de informação, como o índice de Gini ou a entropia, para escolher os melhores pontos de divisão dos dados."
   ]
  },
  {
   "cell_type": "markdown",
   "metadata": {},
   "source": [
    "## 2. Dada uma base de dados com uma variável resposta $y$ e um conjunto de variáveis explicativas. Considere uma estrutura de um modelo de regressão. Explique com suas palavras por que não é possível obter parâmetros que forneçam um erro quadrático médio (EQM) menor que o obtido com estimadores de mínimos quadrados."
   ]
  },
  {
   "cell_type": "markdown",
   "metadata": {},
   "source": [
    "- Os estimadores de mínimos quadrados buscam minimizar a soma dos quadrados dos resíduos, encontrando o ponto onde a derivada é zero.\n",
    "\n",
    "- Qualquer tentativa de obter um erro quadrático médio menor exigiria encontrar um ponto onde a derivada da soma dos quadrados dos resíduos fosse negativa, o que é impossível, já que o mínimo é alcançado quando a derivada é zero.\n",
    "\n",
    "- Portanto, não é possível obter parâmetros que resultem em um EQM menor do que o obtido com estimadores de mínimos quadrados."
   ]
  }
 ],
 "metadata": {
  "kernelspec": {
   "display_name": "Python 3",
   "language": "python",
   "name": "python3"
  },
  "language_info": {
   "codemirror_mode": {
    "name": "ipython",
    "version": 3
   },
   "file_extension": ".py",
   "mimetype": "text/x-python",
   "name": "python",
   "nbconvert_exporter": "python",
   "pygments_lexer": "ipython3",
   "version": "3.11.7"
  },
  "toc": {
   "base_numbering": 1,
   "nav_menu": {},
   "number_sections": true,
   "sideBar": true,
   "skip_h1_title": true,
   "title_cell": "Índice",
   "title_sidebar": "Conteúdo",
   "toc_cell": false,
   "toc_position": {},
   "toc_section_display": true,
   "toc_window_display": false
  },
  "varInspector": {
   "cols": {
    "lenName": 16,
    "lenType": 16,
    "lenVar": 40
   },
   "kernels_config": {
    "python": {
     "delete_cmd_postfix": "",
     "delete_cmd_prefix": "del ",
     "library": "var_list.py",
     "varRefreshCmd": "print(var_dic_list())"
    },
    "r": {
     "delete_cmd_postfix": ") ",
     "delete_cmd_prefix": "rm(",
     "library": "var_list.r",
     "varRefreshCmd": "cat(var_dic_list()) "
    }
   },
   "types_to_exclude": [
    "module",
    "function",
    "builtin_function_or_method",
    "instance",
    "_Feature"
   ],
   "window_display": false
  }
 },
 "nbformat": 4,
 "nbformat_minor": 4
}
