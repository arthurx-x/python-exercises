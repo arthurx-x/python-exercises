{
 "cells": [
  {
   "cell_type": "markdown",
   "metadata": {},
   "source": [
    "# Atividade 01"
   ]
  },
  {
   "cell_type": "markdown",
   "metadata": {},
   "source": [
    "## 1. Marque quais desses métodos/algoritmos muito populares em ciência de dados são baseados no uso de derivada:\n",
    "\n",
    "1. Método Mínimos Quadrados\n",
    "2. Gradiente descendente\n",
    "3. Newton Raphson\n",
    "4. CART (Árvore de decisão)"
   ]
  },
  {
   "cell_type": "markdown",
   "metadata": {},
   "source": [
    "✅1) Método Mínimos Quadrados: Um método que busca encontrar os parâmetros de um modelo de regressão que minimizam a soma dos quadrados dos resíduos, ou seja, a diferença entre o valor observado e o valor previsto pelo modelo. Para isso, ele usa a derivada dessa soma em relação aos parâmetros e iguala a zero, encontrando assim o ponto mínimo.\n",
    "\n",
    "✅2) Gradiente descendente: Um algoritmo que busca encontrar o mínimo de uma função, seja ela de uma ou mais variáveis. Ele funciona atualizando iterativamente os valores das variáveis na direção oposta ao gradiente da função, que é um vetor que indica a direção e o sentido de maior crescimento da função. O gradiente é calculado usando a derivada parcial da função em relação a cada variável.\n",
    "\n",
    "✅3) Newton Raphson: é um algoritmo que busca encontrar as raízes de uma função, ou seja, os valores das variáveis que fazem a função ser igual a zero. Ele funciona usando uma aproximação inicial e atualizando iterativamente os valores das variáveis usando a fórmula de Newton, que envolve a derivada da função.\n",
    "\n",
    "❌4) CART (Árvore de decisão): é um algoritmo que busca construir uma árvore de decisão a partir de um conjunto de dados, dividindo os dados em subconjuntos homogêneos de acordo com uma variável resposta. Ele não usa derivada, mas sim medidas de impureza ou de informação, como o índice de Gini ou a entropia, para escolher os melhores pontos de divisão dos dados."
   ]
  },
  {
   "cell_type": "markdown",
   "metadata": {},
   "source": [
    "## 2. Dada uma base de dados com uma variável resposta $y$ e um conjunto de variáveis explicativas. Considere uma estrutura de um modelo de regressão. Explique com suas palavras por que não é possível obter parâmetros que forneçam um erro quadrático médio (EQM) menor que o obtido com estimadores de mínimos quadrados."
   ]
  },
  {
   "cell_type": "markdown",
   "metadata": {},
   "source": [
    "- Os estimadores de mínimos quadrados buscam minimizar a soma dos quadrados dos resíduos, encontrando o ponto onde a derivada é zero.\n",
    "\n",
    "- Qualquer tentativa de obter um erro quadrático médio menor exigiria encontrar um ponto onde a derivada da soma dos quadrados dos resíduos fosse negativa, o que é impossível, já que o mínimo é alcançado quando a derivada é zero.\n",
    "\n",
    "- Portanto, não é possível obter parâmetros que resultem em um EQM menor do que o obtido com estimadores de mínimos quadrados."
   ]
  },
  {
   "cell_type": "markdown",
   "metadata": {},
   "source": [
    "# Atividade 02"
   ]
  },
  {
   "cell_type": "markdown",
   "metadata": {},
   "source": [
    "## 1- Calcule de forma numérica a integral da função $x^3$ avaliada entre os pontos $1$ e $2$. Identifique o número de retângulos que você usou."
   ]
  },
  {
   "cell_type": "code",
   "execution_count": 96,
   "metadata": {},
   "outputs": [
    {
     "data": {
      "application/vnd.plotly.v1+json": {
       "config": {
        "plotlyServerURL": "https://plot.ly"
       },
       "data": [
        {
         "mode": "lines",
         "name": "Função x^3",
         "type": "scatter",
         "x": [
          1,
          1.0101010101010102,
          1.02020202020202,
          1.0303030303030303,
          1.0404040404040404,
          1.0505050505050506,
          1.0606060606060606,
          1.0707070707070707,
          1.0808080808080809,
          1.0909090909090908,
          1.101010101010101,
          1.1111111111111112,
          1.121212121212121,
          1.1313131313131313,
          1.1414141414141414,
          1.1515151515151516,
          1.1616161616161615,
          1.1717171717171717,
          1.1818181818181819,
          1.191919191919192,
          1.202020202020202,
          1.2121212121212122,
          1.2222222222222223,
          1.2323232323232323,
          1.2424242424242424,
          1.2525252525252526,
          1.2626262626262625,
          1.2727272727272727,
          1.2828282828282829,
          1.2929292929292928,
          1.303030303030303,
          1.3131313131313131,
          1.3232323232323233,
          1.3333333333333335,
          1.3434343434343434,
          1.3535353535353536,
          1.3636363636363638,
          1.3737373737373737,
          1.3838383838383839,
          1.393939393939394,
          1.404040404040404,
          1.4141414141414141,
          1.4242424242424243,
          1.4343434343434343,
          1.4444444444444444,
          1.4545454545454546,
          1.4646464646464648,
          1.474747474747475,
          1.4848484848484849,
          1.494949494949495,
          1.5050505050505052,
          1.5151515151515151,
          1.5252525252525253,
          1.5353535353535355,
          1.5454545454545454,
          1.5555555555555556,
          1.5656565656565657,
          1.5757575757575757,
          1.5858585858585859,
          1.595959595959596,
          1.606060606060606,
          1.6161616161616164,
          1.6262626262626263,
          1.6363636363636365,
          1.6464646464646466,
          1.6565656565656566,
          1.6666666666666667,
          1.676767676767677,
          1.6868686868686869,
          1.696969696969697,
          1.7070707070707072,
          1.7171717171717171,
          1.7272727272727273,
          1.7373737373737375,
          1.7474747474747474,
          1.7575757575757578,
          1.7676767676767677,
          1.7777777777777777,
          1.787878787878788,
          1.797979797979798,
          1.8080808080808082,
          1.8181818181818183,
          1.8282828282828283,
          1.8383838383838385,
          1.8484848484848486,
          1.8585858585858586,
          1.8686868686868687,
          1.878787878787879,
          1.8888888888888888,
          1.8989898989898992,
          1.9090909090909092,
          1.9191919191919191,
          1.9292929292929295,
          1.9393939393939394,
          1.9494949494949496,
          1.9595959595959598,
          1.9696969696969697,
          1.97979797979798,
          1.98989898989899,
          2
         ],
         "y": [
          1,
          1.0306101521283648,
          1.0618386703480058,
          1.0936917383198375,
          1.1261755397047715,
          1.159296258163721,
          1.193060077357598,
          1.2274731809473163,
          1.2625417525937883,
          1.298271975957926,
          1.3346700347006437,
          1.3717421124828535,
          1.4094943929654669,
          1.447933059809399,
          1.487064296675561,
          1.526894287224866,
          1.567429215118226,
          1.6086752640165558,
          1.6506386175807666,
          1.6933254594717717,
          1.7367419733504825,
          1.7808943428778141,
          1.825788751714678,
          1.8714313835219862,
          1.9178284219606534,
          1.9649860506915913,
          2.012910453375712,
          2.061607813673929,
          2.111084315247156,
          2.1613461417563036,
          2.2123994768622866,
          2.264250504226017,
          2.3169054075084077,
          2.370370370370371,
          2.424651576472819,
          2.4797552094766666,
          2.5356874530428257,
          2.5924544908322074,
          2.650062506505727,
          2.708517683724296,
          2.767826206148826,
          2.827994257440232,
          2.889028021259427,
          2.95093368126732,
          3.0137174211248285,
          3.0773854244928627,
          3.141943875032336,
          3.207398956404161,
          3.273756852269249,
          3.3410237462885157,
          3.4092058221228725,
          3.47830926343323,
          3.548340253880505,
          3.6193049771256085,
          3.6912096168294513,
          3.7640603566529496,
          3.8378633802570143,
          3.912624871302557,
          3.988351013450493,
          4.065047990361735,
          4.142721985697191,
          4.221379183117783,
          4.301025766284414,
          4.381667918858002,
          4.46331182449946,
          4.545963666869697,
          4.629629629629631,
          4.714315896440171,
          4.800028650962229,
          4.886774076856722,
          4.97455835778456,
          5.063387677406655,
          5.153268219383922,
          5.244206167377273,
          5.336207705047618,
          5.429279016055878,
          5.523426284062954,
          5.6186556927297655,
          5.714973425717229,
          5.812385666686248,
          5.910898599297743,
          6.010518407212624,
          6.111251274091801,
          6.2131033835961915,
          6.316080919386706,
          6.420190065124255,
          6.525437004469756,
          6.6318279210841204,
          6.739368998628257,
          6.848066420763087,
          6.9579263711495125,
          7.068955033448452,
          7.1811585913208225,
          7.294543228427527,
          7.409115128429486,
          7.524880474987609,
          7.641845451762808,
          7.760016242415999,
          7.879399030608093,
          8
         ]
        },
        {
         "name": "Retângulos",
         "opacity": 0.5,
         "type": "bar",
         "width": 0.05,
         "x": [
          1,
          1.05,
          1.1,
          1.15,
          1.2,
          1.25,
          1.3,
          1.35,
          1.4,
          1.45,
          1.5,
          1.55,
          1.6,
          1.65,
          1.7000000000000002,
          1.75,
          1.8,
          1.85,
          1.9,
          1.9500000000000002
         ],
         "y": [
          1.0768906249999997,
          1.2422968749999999,
          1.423828125,
          1.6222343749999992,
          1.8382656249999993,
          2.0726718749999997,
          2.3262031249999997,
          2.599609375,
          2.893640624999999,
          3.209046874999999,
          3.5465781249999995,
          3.9069843749999995,
          4.291015625,
          4.699421874999999,
          5.132953125000001,
          5.592359374999999,
          6.078390625,
          6.591796875,
          7.1333281249999985,
          7.703734375000001
         ]
        }
       ],
       "layout": {
        "annotations": [
         {
          "font": {
           "color": "black",
           "size": 12
          },
          "showarrow": false,
          "text": "Integral: 3.749062",
          "x": 1.5,
          "y": 3.375
         }
        ],
        "template": {
         "data": {
          "bar": [
           {
            "error_x": {
             "color": "#2a3f5f"
            },
            "error_y": {
             "color": "#2a3f5f"
            },
            "marker": {
             "line": {
              "color": "#E5ECF6",
              "width": 0.5
             },
             "pattern": {
              "fillmode": "overlay",
              "size": 10,
              "solidity": 0.2
             }
            },
            "type": "bar"
           }
          ],
          "barpolar": [
           {
            "marker": {
             "line": {
              "color": "#E5ECF6",
              "width": 0.5
             },
             "pattern": {
              "fillmode": "overlay",
              "size": 10,
              "solidity": 0.2
             }
            },
            "type": "barpolar"
           }
          ],
          "carpet": [
           {
            "aaxis": {
             "endlinecolor": "#2a3f5f",
             "gridcolor": "white",
             "linecolor": "white",
             "minorgridcolor": "white",
             "startlinecolor": "#2a3f5f"
            },
            "baxis": {
             "endlinecolor": "#2a3f5f",
             "gridcolor": "white",
             "linecolor": "white",
             "minorgridcolor": "white",
             "startlinecolor": "#2a3f5f"
            },
            "type": "carpet"
           }
          ],
          "choropleth": [
           {
            "colorbar": {
             "outlinewidth": 0,
             "ticks": ""
            },
            "type": "choropleth"
           }
          ],
          "contour": [
           {
            "colorbar": {
             "outlinewidth": 0,
             "ticks": ""
            },
            "colorscale": [
             [
              0,
              "#0d0887"
             ],
             [
              0.1111111111111111,
              "#46039f"
             ],
             [
              0.2222222222222222,
              "#7201a8"
             ],
             [
              0.3333333333333333,
              "#9c179e"
             ],
             [
              0.4444444444444444,
              "#bd3786"
             ],
             [
              0.5555555555555556,
              "#d8576b"
             ],
             [
              0.6666666666666666,
              "#ed7953"
             ],
             [
              0.7777777777777778,
              "#fb9f3a"
             ],
             [
              0.8888888888888888,
              "#fdca26"
             ],
             [
              1,
              "#f0f921"
             ]
            ],
            "type": "contour"
           }
          ],
          "contourcarpet": [
           {
            "colorbar": {
             "outlinewidth": 0,
             "ticks": ""
            },
            "type": "contourcarpet"
           }
          ],
          "heatmap": [
           {
            "colorbar": {
             "outlinewidth": 0,
             "ticks": ""
            },
            "colorscale": [
             [
              0,
              "#0d0887"
             ],
             [
              0.1111111111111111,
              "#46039f"
             ],
             [
              0.2222222222222222,
              "#7201a8"
             ],
             [
              0.3333333333333333,
              "#9c179e"
             ],
             [
              0.4444444444444444,
              "#bd3786"
             ],
             [
              0.5555555555555556,
              "#d8576b"
             ],
             [
              0.6666666666666666,
              "#ed7953"
             ],
             [
              0.7777777777777778,
              "#fb9f3a"
             ],
             [
              0.8888888888888888,
              "#fdca26"
             ],
             [
              1,
              "#f0f921"
             ]
            ],
            "type": "heatmap"
           }
          ],
          "heatmapgl": [
           {
            "colorbar": {
             "outlinewidth": 0,
             "ticks": ""
            },
            "colorscale": [
             [
              0,
              "#0d0887"
             ],
             [
              0.1111111111111111,
              "#46039f"
             ],
             [
              0.2222222222222222,
              "#7201a8"
             ],
             [
              0.3333333333333333,
              "#9c179e"
             ],
             [
              0.4444444444444444,
              "#bd3786"
             ],
             [
              0.5555555555555556,
              "#d8576b"
             ],
             [
              0.6666666666666666,
              "#ed7953"
             ],
             [
              0.7777777777777778,
              "#fb9f3a"
             ],
             [
              0.8888888888888888,
              "#fdca26"
             ],
             [
              1,
              "#f0f921"
             ]
            ],
            "type": "heatmapgl"
           }
          ],
          "histogram": [
           {
            "marker": {
             "pattern": {
              "fillmode": "overlay",
              "size": 10,
              "solidity": 0.2
             }
            },
            "type": "histogram"
           }
          ],
          "histogram2d": [
           {
            "colorbar": {
             "outlinewidth": 0,
             "ticks": ""
            },
            "colorscale": [
             [
              0,
              "#0d0887"
             ],
             [
              0.1111111111111111,
              "#46039f"
             ],
             [
              0.2222222222222222,
              "#7201a8"
             ],
             [
              0.3333333333333333,
              "#9c179e"
             ],
             [
              0.4444444444444444,
              "#bd3786"
             ],
             [
              0.5555555555555556,
              "#d8576b"
             ],
             [
              0.6666666666666666,
              "#ed7953"
             ],
             [
              0.7777777777777778,
              "#fb9f3a"
             ],
             [
              0.8888888888888888,
              "#fdca26"
             ],
             [
              1,
              "#f0f921"
             ]
            ],
            "type": "histogram2d"
           }
          ],
          "histogram2dcontour": [
           {
            "colorbar": {
             "outlinewidth": 0,
             "ticks": ""
            },
            "colorscale": [
             [
              0,
              "#0d0887"
             ],
             [
              0.1111111111111111,
              "#46039f"
             ],
             [
              0.2222222222222222,
              "#7201a8"
             ],
             [
              0.3333333333333333,
              "#9c179e"
             ],
             [
              0.4444444444444444,
              "#bd3786"
             ],
             [
              0.5555555555555556,
              "#d8576b"
             ],
             [
              0.6666666666666666,
              "#ed7953"
             ],
             [
              0.7777777777777778,
              "#fb9f3a"
             ],
             [
              0.8888888888888888,
              "#fdca26"
             ],
             [
              1,
              "#f0f921"
             ]
            ],
            "type": "histogram2dcontour"
           }
          ],
          "mesh3d": [
           {
            "colorbar": {
             "outlinewidth": 0,
             "ticks": ""
            },
            "type": "mesh3d"
           }
          ],
          "parcoords": [
           {
            "line": {
             "colorbar": {
              "outlinewidth": 0,
              "ticks": ""
             }
            },
            "type": "parcoords"
           }
          ],
          "pie": [
           {
            "automargin": true,
            "type": "pie"
           }
          ],
          "scatter": [
           {
            "fillpattern": {
             "fillmode": "overlay",
             "size": 10,
             "solidity": 0.2
            },
            "type": "scatter"
           }
          ],
          "scatter3d": [
           {
            "line": {
             "colorbar": {
              "outlinewidth": 0,
              "ticks": ""
             }
            },
            "marker": {
             "colorbar": {
              "outlinewidth": 0,
              "ticks": ""
             }
            },
            "type": "scatter3d"
           }
          ],
          "scattercarpet": [
           {
            "marker": {
             "colorbar": {
              "outlinewidth": 0,
              "ticks": ""
             }
            },
            "type": "scattercarpet"
           }
          ],
          "scattergeo": [
           {
            "marker": {
             "colorbar": {
              "outlinewidth": 0,
              "ticks": ""
             }
            },
            "type": "scattergeo"
           }
          ],
          "scattergl": [
           {
            "marker": {
             "colorbar": {
              "outlinewidth": 0,
              "ticks": ""
             }
            },
            "type": "scattergl"
           }
          ],
          "scattermapbox": [
           {
            "marker": {
             "colorbar": {
              "outlinewidth": 0,
              "ticks": ""
             }
            },
            "type": "scattermapbox"
           }
          ],
          "scatterpolar": [
           {
            "marker": {
             "colorbar": {
              "outlinewidth": 0,
              "ticks": ""
             }
            },
            "type": "scatterpolar"
           }
          ],
          "scatterpolargl": [
           {
            "marker": {
             "colorbar": {
              "outlinewidth": 0,
              "ticks": ""
             }
            },
            "type": "scatterpolargl"
           }
          ],
          "scatterternary": [
           {
            "marker": {
             "colorbar": {
              "outlinewidth": 0,
              "ticks": ""
             }
            },
            "type": "scatterternary"
           }
          ],
          "surface": [
           {
            "colorbar": {
             "outlinewidth": 0,
             "ticks": ""
            },
            "colorscale": [
             [
              0,
              "#0d0887"
             ],
             [
              0.1111111111111111,
              "#46039f"
             ],
             [
              0.2222222222222222,
              "#7201a8"
             ],
             [
              0.3333333333333333,
              "#9c179e"
             ],
             [
              0.4444444444444444,
              "#bd3786"
             ],
             [
              0.5555555555555556,
              "#d8576b"
             ],
             [
              0.6666666666666666,
              "#ed7953"
             ],
             [
              0.7777777777777778,
              "#fb9f3a"
             ],
             [
              0.8888888888888888,
              "#fdca26"
             ],
             [
              1,
              "#f0f921"
             ]
            ],
            "type": "surface"
           }
          ],
          "table": [
           {
            "cells": {
             "fill": {
              "color": "#EBF0F8"
             },
             "line": {
              "color": "white"
             }
            },
            "header": {
             "fill": {
              "color": "#C8D4E3"
             },
             "line": {
              "color": "white"
             }
            },
            "type": "table"
           }
          ]
         },
         "layout": {
          "annotationdefaults": {
           "arrowcolor": "#2a3f5f",
           "arrowhead": 0,
           "arrowwidth": 1
          },
          "autotypenumbers": "strict",
          "coloraxis": {
           "colorbar": {
            "outlinewidth": 0,
            "ticks": ""
           }
          },
          "colorscale": {
           "diverging": [
            [
             0,
             "#8e0152"
            ],
            [
             0.1,
             "#c51b7d"
            ],
            [
             0.2,
             "#de77ae"
            ],
            [
             0.3,
             "#f1b6da"
            ],
            [
             0.4,
             "#fde0ef"
            ],
            [
             0.5,
             "#f7f7f7"
            ],
            [
             0.6,
             "#e6f5d0"
            ],
            [
             0.7,
             "#b8e186"
            ],
            [
             0.8,
             "#7fbc41"
            ],
            [
             0.9,
             "#4d9221"
            ],
            [
             1,
             "#276419"
            ]
           ],
           "sequential": [
            [
             0,
             "#0d0887"
            ],
            [
             0.1111111111111111,
             "#46039f"
            ],
            [
             0.2222222222222222,
             "#7201a8"
            ],
            [
             0.3333333333333333,
             "#9c179e"
            ],
            [
             0.4444444444444444,
             "#bd3786"
            ],
            [
             0.5555555555555556,
             "#d8576b"
            ],
            [
             0.6666666666666666,
             "#ed7953"
            ],
            [
             0.7777777777777778,
             "#fb9f3a"
            ],
            [
             0.8888888888888888,
             "#fdca26"
            ],
            [
             1,
             "#f0f921"
            ]
           ],
           "sequentialminus": [
            [
             0,
             "#0d0887"
            ],
            [
             0.1111111111111111,
             "#46039f"
            ],
            [
             0.2222222222222222,
             "#7201a8"
            ],
            [
             0.3333333333333333,
             "#9c179e"
            ],
            [
             0.4444444444444444,
             "#bd3786"
            ],
            [
             0.5555555555555556,
             "#d8576b"
            ],
            [
             0.6666666666666666,
             "#ed7953"
            ],
            [
             0.7777777777777778,
             "#fb9f3a"
            ],
            [
             0.8888888888888888,
             "#fdca26"
            ],
            [
             1,
             "#f0f921"
            ]
           ]
          },
          "colorway": [
           "#636efa",
           "#EF553B",
           "#00cc96",
           "#ab63fa",
           "#FFA15A",
           "#19d3f3",
           "#FF6692",
           "#B6E880",
           "#FF97FF",
           "#FECB52"
          ],
          "font": {
           "color": "#2a3f5f"
          },
          "geo": {
           "bgcolor": "white",
           "lakecolor": "white",
           "landcolor": "#E5ECF6",
           "showlakes": true,
           "showland": true,
           "subunitcolor": "white"
          },
          "hoverlabel": {
           "align": "left"
          },
          "hovermode": "closest",
          "mapbox": {
           "style": "light"
          },
          "paper_bgcolor": "white",
          "plot_bgcolor": "#E5ECF6",
          "polar": {
           "angularaxis": {
            "gridcolor": "white",
            "linecolor": "white",
            "ticks": ""
           },
           "bgcolor": "#E5ECF6",
           "radialaxis": {
            "gridcolor": "white",
            "linecolor": "white",
            "ticks": ""
           }
          },
          "scene": {
           "xaxis": {
            "backgroundcolor": "#E5ECF6",
            "gridcolor": "white",
            "gridwidth": 2,
            "linecolor": "white",
            "showbackground": true,
            "ticks": "",
            "zerolinecolor": "white"
           },
           "yaxis": {
            "backgroundcolor": "#E5ECF6",
            "gridcolor": "white",
            "gridwidth": 2,
            "linecolor": "white",
            "showbackground": true,
            "ticks": "",
            "zerolinecolor": "white"
           },
           "zaxis": {
            "backgroundcolor": "#E5ECF6",
            "gridcolor": "white",
            "gridwidth": 2,
            "linecolor": "white",
            "showbackground": true,
            "ticks": "",
            "zerolinecolor": "white"
           }
          },
          "shapedefaults": {
           "line": {
            "color": "#2a3f5f"
           }
          },
          "ternary": {
           "aaxis": {
            "gridcolor": "white",
            "linecolor": "white",
            "ticks": ""
           },
           "baxis": {
            "gridcolor": "white",
            "linecolor": "white",
            "ticks": ""
           },
           "bgcolor": "#E5ECF6",
           "caxis": {
            "gridcolor": "white",
            "linecolor": "white",
            "ticks": ""
           }
          },
          "title": {
           "x": 0.05
          },
          "xaxis": {
           "automargin": true,
           "gridcolor": "white",
           "linecolor": "white",
           "ticks": "",
           "title": {
            "standoff": 15
           },
           "zerolinecolor": "white",
           "zerolinewidth": 2
          },
          "yaxis": {
           "automargin": true,
           "gridcolor": "white",
           "linecolor": "white",
           "ticks": "",
           "title": {
            "standoff": 15
           },
           "zerolinecolor": "white",
           "zerolinewidth": 2
          }
         }
        },
        "title": {
         "text": "Integral de x^3 entre 1 e 2 (20 retângulos)"
        },
        "xaxis": {
         "title": {
          "text": "x"
         }
        },
        "yaxis": {
         "title": {
          "text": "f(x)"
         }
        }
       }
      }
     },
     "metadata": {},
     "output_type": "display_data"
    }
   ],
   "source": [
    "# Importando bibliotecas\n",
    "import numpy as np\n",
    "import plotly.graph_objs as go\n",
    "\n",
    "# Define a função para calcular f(x) = x^3\n",
    "def f(x):\n",
    "    return x ** 3\n",
    "\n",
    "# Função para plotar a integral aproximada usando retângulos\n",
    "def plot_integral(a, b, n):\n",
    "    # Gera valores de x e y para a função\n",
    "    x = np.linspace(a, b, 100)\n",
    "    y = f(x)\n",
    "\n",
    "    # Gera os pontos para os retângulos\n",
    "    x_rect = np.linspace(a, b, n + 1)\n",
    "    y_rect = f(x_rect[:-1] + (b - a) / (2 * n))\n",
    "\n",
    "    # Calcula a integral aproximada usando a soma de áreas dos retângulos\n",
    "    integral_aproximada = np.sum(y_rect * (b - a) / n)\n",
    "\n",
    "    # Define as anotações para exibir o valor da integral no gráfico\n",
    "    annotations = [dict(x=1.5, y=f(1.5), text=f'Integral: {integral_aproximada:.6f}', showarrow=False, font=dict(color=\"black\", size=12))]\n",
    "\n",
    "    # Define o layout do gráfico\n",
    "    layout = go.Layout(title=f'Integral de x^3 entre {a} e {b} ({n} retângulos)', xaxis=dict(title='x'), yaxis=dict(title='f(x)'), annotations=annotations)\n",
    "\n",
    "    # Cria o gráfico\n",
    "    fig = go.Figure(data=[go.Scatter(x=x, y=y, mode='lines', name='Função x^3'), \n",
    "                          go.Bar(x=x_rect[:-1], y=y_rect, width=(b - a) / n, opacity=0.5, name='Retângulos')],\n",
    "                    layout=layout)\n",
    "\n",
    "    # Exibe o gráfico\n",
    "    fig.show()\n",
    "\n",
    "# Parâmetros da integral\n",
    "a, b, n = 1, 2, 20\n",
    "plot_integral(a, b, n)"
   ]
  },
  {
   "cell_type": "markdown",
   "metadata": {},
   "source": [
    "## 2- Calcule essa área de forma analítica."
   ]
  },
  {
   "cell_type": "code",
   "execution_count": 98,
   "metadata": {},
   "outputs": [
    {
     "name": "stdout",
     "output_type": "stream",
     "text": [
      "A área sob a curva, calculada de forma analítica, é: 3.75\n"
     ]
    }
   ],
   "source": [
    "# Define a função para calcular a área sob a curva de x^3 de forma analítica\n",
    "def calcula_area_analitica(a, b):\n",
    "    area = (b ** 4 / 4) - (a ** 4 / 4)\n",
    "    return area\n",
    "\n",
    "# Parâmetros da integral\n",
    "a, b = 1, 2\n",
    "\n",
    "# Calcula a área sob a curva de forma analítica\n",
    "area_analitica = calcula_area_analitica(a, b)\n",
    "print(\"A área sob a curva, calculada de forma analítica, é:\", area_analitica)"
   ]
  }
 ],
 "metadata": {
  "kernelspec": {
   "display_name": "Python 3",
   "language": "python",
   "name": "python3"
  },
  "language_info": {
   "codemirror_mode": {
    "name": "ipython",
    "version": 3
   },
   "file_extension": ".py",
   "mimetype": "text/x-python",
   "name": "python",
   "nbconvert_exporter": "python",
   "pygments_lexer": "ipython3",
   "version": "3.11.7"
  },
  "toc": {
   "base_numbering": 1,
   "nav_menu": {},
   "number_sections": true,
   "sideBar": true,
   "skip_h1_title": true,
   "title_cell": "Índice",
   "title_sidebar": "Conteúdo",
   "toc_cell": false,
   "toc_position": {},
   "toc_section_display": true,
   "toc_window_display": false
  },
  "varInspector": {
   "cols": {
    "lenName": 16,
    "lenType": 16,
    "lenVar": 40
   },
   "kernels_config": {
    "python": {
     "delete_cmd_postfix": "",
     "delete_cmd_prefix": "del ",
     "library": "var_list.py",
     "varRefreshCmd": "print(var_dic_list())"
    },
    "r": {
     "delete_cmd_postfix": ") ",
     "delete_cmd_prefix": "rm(",
     "library": "var_list.r",
     "varRefreshCmd": "cat(var_dic_list()) "
    }
   },
   "types_to_exclude": [
    "module",
    "function",
    "builtin_function_or_method",
    "instance",
    "_Feature"
   ],
   "window_display": false
  }
 },
 "nbformat": 4,
 "nbformat_minor": 4
}
