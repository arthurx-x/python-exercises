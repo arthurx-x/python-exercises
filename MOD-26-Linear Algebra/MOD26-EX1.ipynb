{
 "cells": [
  {
   "cell_type": "markdown",
   "metadata": {},
   "source": [
    "# Atividade 01"
   ]
  },
  {
   "cell_type": "markdown",
   "metadata": {},
   "source": [
    "A célula abaixo gera dados de notas de duas provas, p1 e p2, conforme em aula, mas com mais alunos.\n",
    "\n",
    "## 1. Reduzindo correlações\n",
    "\n",
    "a) Já vimos que expressar os dados através da média e diferença é uma transformação linear. Obtenha a média e a diferença através de uma multiplicação matricial, conforme visto em aula.\n",
    "\n",
    "b) Calcule a correlação entre os dados da **p1** e **p2**\n",
    "\n",
    "c) Calcule a correlação entre os dados transformados (média e diferença)\n",
    "\n",
    "d) Comente as correlações observadas."
   ]
  },
  {
   "cell_type": "code",
   "execution_count": 10,
   "metadata": {},
   "outputs": [],
   "source": [
    "import pandas as pd\n",
    "import seaborn as sns\n",
    "import numpy as np\n",
    "import matplotlib.pyplot as plt\n",
    "from prettytable import PrettyTable\n",
    "\n",
    "%matplotlib inline\n",
    "\n",
    "# Gerando os dados\n",
    "np.random.seed(123)\n",
    "\n",
    "p1 = np.random.random(50) *10\n",
    "p1[p1>10] = 10\n",
    "p1[p1<0] = 0\n",
    "\n",
    "p2 = p1 + np.random.normal(0,1,50)\n",
    "p2[p2>10] = 10\n",
    "p2[p2<0] = 0\n",
    "\n",
    "df = pd.DataFrame({'p1': p1, 'p2': p2})"
   ]
  },
  {
   "cell_type": "code",
   "execution_count": 11,
   "metadata": {},
   "outputs": [
    {
     "name": "stdout",
     "output_type": "stream",
     "text": [
      "+--------------------+---------------------+\n",
      "|       Media        |      Diferenca      |\n",
      "+--------------------+---------------------+\n",
      "| 7.454059858947289  | -0.4893680029686731 |\n",
      "| 3.9804650187527706 | -1.1190716692489762 |\n",
      "| 1.6214718740614065 |  0.6470426615806244 |\n",
      "| 4.993753585726436  |  0.5193941051024766 |\n",
      "| 8.066545810417097  | -0.8718561125614657 |\n",
      "+--------------------+---------------------+\n"
     ]
    }
   ],
   "source": [
    "#a)\n",
    "# Definindo a matriz de transformação\n",
    "T = np.array([[0.5, 0.5],\n",
    "              [0.5, -0.5]])\n",
    "\n",
    "# Multiplicando a matriz de transformação pelos dados originais para obter os dados transformados\n",
    "dados_transformados = np.dot(df.values, T)\n",
    "\n",
    "# Criando um DataFrame com os dados transformados\n",
    "df_transformado = pd.DataFrame(dados_transformados, columns=['media', 'diferenca'])\n",
    "\n",
    "# Criando uma tabela bonita\n",
    "tabela = PrettyTable()\n",
    "tabela.field_names = ['Media', 'Diferenca']\n",
    "for row in df_transformado.head().itertuples(index=False):\n",
    "    tabela.add_row(row)\n",
    "\n",
    "# Mostrando a tabela bonita\n",
    "print(tabela)"
   ]
  },
  {
   "cell_type": "code",
   "execution_count": 12,
   "metadata": {},
   "outputs": [
    {
     "name": "stdout",
     "output_type": "stream",
     "text": [
      "Correlação entre p1 e p2: 0.8957365818728046\n"
     ]
    }
   ],
   "source": [
    "#b)\n",
    "# Calculando a correlação entre p1 e p2 nos dados originais\n",
    "correlacao_original = df['p1'].corr(df['p2'])\n",
    "print(\"Correlação entre p1 e p2:\", correlacao_original)"
   ]
  },
  {
   "cell_type": "code",
   "execution_count": 13,
   "metadata": {},
   "outputs": [
    {
     "name": "stdout",
     "output_type": "stream",
     "text": [
      "Correlação entre média e diferença: -0.13347385411788837\n"
     ]
    }
   ],
   "source": [
    "#c)\n",
    "# Calculando a correlação entre a média e a diferença nos dados transformados\n",
    "correlacao_transformada = df_transformado['media'].corr(df_transformado['diferenca'])\n",
    "print(\"Correlação entre média e diferença:\", correlacao_transformada)"
   ]
  },
  {
   "cell_type": "markdown",
   "metadata": {},
   "source": [
    "d)\n",
    "\n",
    "- A correlação entre p1 e p2 é 0,89, o que significa que há uma forte relação linear positiva entre as duas variáveis.\n",
    "\n",
    "- A correlação entre os dados transformados (média e diferença) é -0,13, o que significa que a transformação reduziu a correlação entre os dados originais."
   ]
  },
  {
   "cell_type": "markdown",
   "metadata": {},
   "source": [
    "## 2. Soma e diferença\n",
    "\n",
    "Realize agora uma transformação semelhante, mas que ao invés da média, dê a soma da **p1** e **p2**. Construa o gráfico e conclua que diferenças visuais você observa."
   ]
  },
  {
   "cell_type": "code",
   "execution_count": 14,
   "metadata": {},
   "outputs": [
    {
     "data": {
      "image/png": "[encoded data removed]",
      "text/plain": [
       "<Figure size 800x600 with 1 Axes>"
      ]
     },
     "metadata": {},
     "output_type": "display_data"
    }
   ],
   "source": [
    "# Definindo a matriz de transformação para obter a soma e a diferença\n",
    "T_soma_dif = np.array([[1, 1],\n",
    "                       [1, -1]])\n",
    "\n",
    "# Multiplicando a matriz de transformação para obter a soma e a diferença entre p1 e p2\n",
    "dados_transformados_soma_dif = np.dot(df.values, T_soma_dif)\n",
    "\n",
    "# Criando um DataFrame com os dados transformados\n",
    "df_transformado_soma_dif = pd.DataFrame(dados_transformados_soma_dif, columns=['soma', 'diferenca'])\n",
    "\n",
    "# Construindo o gráfico de dispersão para visualizar as diferenças\n",
    "plt.figure(figsize=(8, 6))\n",
    "sns.scatterplot(x='soma', y='diferenca', data=df_transformado_soma_dif)\n",
    "plt.title('Gráfico de Dispersão da Soma e Diferença de p1 e p2')\n",
    "plt.xlabel('Soma (p1 + p2)')\n",
    "plt.ylabel('Diferença (p1 - p2)')\n",
    "plt.grid(True)\n",
    "plt.show()"
   ]
  },
  {
   "cell_type": "markdown",
   "metadata": {},
   "source": [
    "- O gráfico (média e diferença) mostra um padrão aleatório, indicando nenhuma correlação. Isso mostra que a transformação mudou a forma e a distribuição dos dados."
   ]
  }
 ],
 "metadata": {
  "kernelspec": {
   "display_name": "Python 3",
   "language": "python",
   "name": "python3"
  },
  "language_info": {
   "codemirror_mode": {
    "name": "ipython",
    "version": 3
   },
   "file_extension": ".py",
   "mimetype": "text/x-python",
   "name": "python",
   "nbconvert_exporter": "python",
   "pygments_lexer": "ipython3",
   "version": "3.11.7"
  },
  "toc": {
   "base_numbering": 1,
   "nav_menu": {},
   "number_sections": false,
   "sideBar": true,
   "skip_h1_title": false,
   "title_cell": "Índice",
   "title_sidebar": "Conteúdo",
   "toc_cell": false,
   "toc_position": {
    "height": "calc(100% - 180px)",
    "left": "10px",
    "top": "150px",
    "width": "257.6px"
   },
   "toc_section_display": true,
   "toc_window_display": false
  },
  "varInspector": {
   "cols": {
    "lenName": 16,
    "lenType": 16,
    "lenVar": 40
   },
   "kernels_config": {
    "python": {
     "delete_cmd_postfix": "",
     "delete_cmd_prefix": "del ",
     "library": "var_list.py",
     "varRefreshCmd": "print(var_dic_list())"
    },
    "r": {
     "delete_cmd_postfix": ") ",
     "delete_cmd_prefix": "rm(",
     "library": "var_list.r",
     "varRefreshCmd": "cat(var_dic_list()) "
    }
   },
   "types_to_exclude": [
    "module",
    "function",
    "builtin_function_or_method",
    "instance",
    "_Feature"
   ],
   "window_display": false
  }
 },
 "nbformat": 4,
 "nbformat_minor": 4
}
